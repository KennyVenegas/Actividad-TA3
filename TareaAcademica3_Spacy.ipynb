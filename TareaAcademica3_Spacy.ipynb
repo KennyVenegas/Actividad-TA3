{
  "nbformat": 4,
  "nbformat_minor": 0,
  "metadata": {
    "colab": {
      "name": "TareaAcademica3 - Spacy (Luis).ipynb",
      "provenance": [],
      "collapsed_sections": [],
      "toc_visible": true
    },
    "kernelspec": {
      "display_name": "Python 3",
      "language": "python",
      "name": "python3"
    },
    "language_info": {
      "codemirror_mode": {
        "name": "ipython",
        "version": 3
      },
      "file_extension": ".py",
      "mimetype": "text/x-python",
      "name": "python",
      "nbconvert_exporter": "python",
      "pygments_lexer": "ipython3",
      "version": "3.8.3"
    }
  },
  "cells": [
    {
      "cell_type": "code",
      "metadata": {
        "id": "bA4bh0fPcsDL"
      },
      "source": [
        "pip install spacy"
      ],
      "execution_count": null,
      "outputs": []
    },
    {
      "cell_type": "code",
      "metadata": {
        "id": "j7ON7oQkcsDM"
      },
      "source": [
        "pip install stanza"
      ],
      "execution_count": null,
      "outputs": []
    },
    {
      "cell_type": "code",
      "metadata": {
        "id": "EGGimy7ScsDM"
      },
      "source": [
        "pip install imblearn"
      ],
      "execution_count": null,
      "outputs": []
    },
    {
      "cell_type": "code",
      "metadata": {
        "colab": {
          "base_uri": "https://localhost:8080/"
        },
        "id": "0g3bc8QMyPgA",
        "outputId": "29f771f5-ac4b-438a-b771-3cf11cac4b1a"
      },
      "source": [
        "import pandas as pd\n",
        "import numpy as np\n",
        "from sklearn.tree import DecisionTreeClassifier\n",
        "from sklearn.linear_model import LogisticRegression\n",
        "\n",
        "import seaborn as sns\n",
        "import matplotlib.pyplot as plt\n",
        "\n",
        "# visualizacion\n",
        "import plotly.express as px\n",
        "\n",
        "from sklearn.metrics import confusion_matrix\n",
        "from sklearn.metrics import ConfusionMatrixDisplay\n",
        "from sklearn.metrics import precision_score\n",
        "\n",
        "from sklearn.neural_network import MLPClassifier\n",
        "from sklearn.naive_bayes import GaussianNB\n",
        "\n",
        "from imblearn.under_sampling import RandomUnderSampler\n",
        "from sklearn.model_selection import KFold\n",
        "\n",
        "from sklearn.model_selection import cross_val_score\n",
        "from sklearn.metrics import roc_auc_score\n",
        "from numpy import mean\n",
        "from imblearn.pipeline import Pipeline\n",
        "from sklearn.model_selection import StratifiedKFold\n",
        "from sklearn.svm import SVC\n",
        "from sklearn.neural_network import MLPClassifier\n",
        "\n",
        "from sklearn.preprocessing import MinMaxScaler\n",
        "from sklearn.model_selection import train_test_split\n",
        "\n",
        "from sklearn.metrics import precision_score\n",
        "from sklearn.metrics import f1_score\n",
        "from sklearn.metrics import recall_score\n",
        "\n",
        "from sklearn.feature_extraction.text import TfidfVectorizer\n",
        "from sklearn.pipeline import Pipeline\n",
        "from sklearn.svm import LinearSVC\n",
        "from sklearn.metrics import accuracy_score, classification_report, confusion_matrix"
      ],
      "execution_count": null,
      "outputs": [
        {
          "name": "stderr",
          "output_type": "stream",
          "text": [
            "/usr/local/lib/python3.7/dist-packages/sklearn/externals/six.py:31: FutureWarning:\n",
            "\n",
            "The module is deprecated in version 0.21 and will be removed in version 0.23 since we've dropped support for Python 2.7. Please rely on the official version of six (https://pypi.org/project/six/).\n",
            "\n",
            "/usr/local/lib/python3.7/dist-packages/sklearn/utils/deprecation.py:144: FutureWarning:\n",
            "\n",
            "The sklearn.neighbors.base module is  deprecated in version 0.22 and will be removed in version 0.24. The corresponding classes / functions should instead be imported from sklearn.neighbors. Anything that cannot be imported from sklearn.neighbors is now part of the private API.\n",
            "\n"
          ]
        }
      ]
    },
    {
      "cell_type": "code",
      "metadata": {
        "colab": {
          "base_uri": "https://localhost:8080/"
        },
        "id": "nXzCVTKFcsDN",
        "outputId": "9dba8a19-74dc-4e4e-c585-26938571fb42"
      },
      "source": [
        "import spacy\n",
        "from spacy import displacy\n",
        "from spacy.lang.es.stop_words import STOP_WORDS\n",
        "\n",
        "spacy.cli.download('es_core_news_md')\n",
        "nlp = spacy.load('es_core_news_md')\n",
        "stopwords_spacy = list(STOP_WORDS)"
      ],
      "execution_count": null,
      "outputs": [
        {
          "name": "stdout",
          "output_type": "stream",
          "text": [
            "\u001b[38;5;2m✔ Download and installation successful\u001b[0m\n",
            "You can now load the model via spacy.load('es_core_news_md')\n"
          ]
        }
      ]
    },
    {
      "cell_type": "code",
      "metadata": {
        "id": "JVshXSwYcsDO"
      },
      "source": [
        "# Remover comentarios a usuarios\n",
        "def filter_reply(content):\n",
        "    temp = content\n",
        "    while temp.find(\"@\") > -1:\n",
        "        temp = temp[:temp.find(\"@\")] + temp[(temp.find(\" \",temp.find(\"@\"))):]\n",
        "    return temp\n",
        "\n",
        "# Remover comentarios a usuarios\n",
        "def filter_hashtag(content):\n",
        "    temp = content\n",
        "    while temp.find(\"#\") > -1:\n",
        "        temp = temp[:temp.find(\"#\")] + temp[(temp.find(\" \",temp.find(\"#\"))):]\n",
        "    return temp\n",
        "\n",
        "#Constante de signos de puntuación (para referencia pues se eliminaron en el archivo fuente)\n",
        "import string\n",
        "puntua = string.punctuation + '¡¿'\n",
        "\n",
        "# Quitar pronombres y stopwords\n",
        "def text_data_cleaning(sentence):\n",
        "    \n",
        "    # Quitar comentarios\n",
        "    sentence = filter_reply(sentence)\n",
        "    # Quitar hashtag\n",
        "    sentence = filter_hashtag(sentence)\n",
        "    \n",
        "    doc = nlp(sentence)\n",
        "    \n",
        "    tokens = []\n",
        "    for token in doc:\n",
        "        if token.lemma_ != \"-PRON-\":\n",
        "            temp = token.lemma_.strip()\n",
        "        else:\n",
        "            temp = token\n",
        "        tokens.append(temp)\n",
        "    \n",
        "    clean_tokens = []\n",
        "    for token in tokens:\n",
        "        if token not in stopwords_spacy and token not in puntua:\n",
        "            clean_tokens.append(token)\n",
        "    \n",
        "    return clean_tokens\n",
        "\n",
        "def evaluate_model(model, x, y):\n",
        "    tfidf = TfidfVectorizer(tokenizer = text_data_cleaning)\n",
        "    classifier = model\n",
        "    X_train, X_test, y_train, y_test = train_test_split(x, y, train_size=.7, random_state=42, stratify=y)\n",
        "    clf = Pipeline([('tfidf', tfidf), ('clf', classifier)])\n",
        "    scores = cross_val_score(clf, x, y, cv=10, scoring='accuracy')\n",
        "    print(scores)\n",
        "    print(np.mean(scores))\n",
        "    \n",
        "    clf.fit(X_train, y_train)\n",
        "    y_pred = clf.predict(X_test)\n",
        "    print_metrics(y_test, y_pred)\n",
        "    \n",
        "def print_metrics(y_test, y_pred):\n",
        "    # Confusion Matrix\n",
        "    conf_mat = confusion_matrix(y_test, y_pred)\n",
        "    disp = ConfusionMatrixDisplay(confusion_matrix=conf_mat, display_labels=['Negativo', 'Neutro', 'Positivo']) #.from_predictions(y_test, y_pred)\n",
        "    disp.plot(cmap=\"Blues\", values_format=',')\n",
        "    #metricas\n",
        "    print('Accuracy: ', round(accuracy_score(y_test, y_pred),2))\n",
        "    print('f1_score: ', round(f1_score(y_test, y_pred, average='weighted'),2)) #round(tp / (tp + fp),2))\n",
        "    print('Precision: ', round(precision_score(y_test, y_pred, average='weighted'),2)) #round(tp / (tp + fp),2))\n",
        "    print('recall_score: ', round(recall_score(y_test, y_pred, average='weighted'),2)) #round(tp / (tp + fp),2))"
      ],
      "execution_count": null,
      "outputs": []
    },
    {
      "cell_type": "code",
      "metadata": {
        "colab": {
          "base_uri": "https://localhost:8080/",
          "height": 204
        },
        "id": "1fpoMtFeyPgB",
        "outputId": "b7b382ba-8ede-43e2-96c3-b1f42a1459fc"
      },
      "source": [
        "df = pd.read_excel('ComentariosInstagram.xlsx')\n",
        "df.head()"
      ],
      "execution_count": null,
      "outputs": [
        {
          "data": {
            "text/html": [
              "<div>\n",
              "<style scoped>\n",
              "    .dataframe tbody tr th:only-of-type {\n",
              "        vertical-align: middle;\n",
              "    }\n",
              "\n",
              "    .dataframe tbody tr th {\n",
              "        vertical-align: top;\n",
              "    }\n",
              "\n",
              "    .dataframe thead th {\n",
              "        text-align: right;\n",
              "    }\n",
              "</style>\n",
              "<table border=\"1\" class=\"dataframe\">\n",
              "  <thead>\n",
              "    <tr style=\"text-align: right;\">\n",
              "      <th></th>\n",
              "      <th>Texto</th>\n",
              "      <th>Etiquetado</th>\n",
              "    </tr>\n",
              "  </thead>\n",
              "  <tbody>\n",
              "    <tr>\n",
              "      <th>0</th>\n",
              "      <td>@giomaeli muchas gracias 🙏🏻😊</td>\n",
              "      <td>Positivo</td>\n",
              "    </tr>\n",
              "    <tr>\n",
              "      <th>1</th>\n",
              "      <td>@alexisjosueh ¡Felicitaciones por este gran tr...</td>\n",
              "      <td>Positivo</td>\n",
              "    </tr>\n",
              "    <tr>\n",
              "      <th>2</th>\n",
              "      <td>@alexisjosueh felicidades, excelente trabajo🙌🏻</td>\n",
              "      <td>Positivo</td>\n",
              "    </tr>\n",
              "    <tr>\n",
              "      <th>3</th>\n",
              "      <td>@alexisjosueh felicitaciones, las fotografías ...</td>\n",
              "      <td>Positivo</td>\n",
              "    </tr>\n",
              "    <tr>\n",
              "      <th>4</th>\n",
              "      <td>Muchas gracias 🙏🏻♥️</td>\n",
              "      <td>Positivo</td>\n",
              "    </tr>\n",
              "  </tbody>\n",
              "</table>\n",
              "</div>"
            ],
            "text/plain": [
              "                                               Texto Etiquetado\n",
              "0                       @giomaeli muchas gracias 🙏🏻😊   Positivo\n",
              "1  @alexisjosueh ¡Felicitaciones por este gran tr...   Positivo\n",
              "2     @alexisjosueh felicidades, excelente trabajo🙌🏻   Positivo\n",
              "3  @alexisjosueh felicitaciones, las fotografías ...   Positivo\n",
              "4                                Muchas gracias 🙏🏻♥️   Positivo"
            ]
          },
          "execution_count": 4,
          "metadata": {},
          "output_type": "execute_result"
        }
      ]
    },
    {
      "cell_type": "code",
      "metadata": {
        "id": "7yqZIegscsDP"
      },
      "source": [
        "y = df[\"Etiquetado\"].replace({'Positivo': 1, 'Negativo': -1, 'Neutro': 0})\n",
        "x = df[\"Texto\"].fillna('')"
      ],
      "execution_count": null,
      "outputs": []
    },
    {
      "cell_type": "markdown",
      "metadata": {
        "id": "6OPlk_OxcsDP"
      },
      "source": [
        "# Prueba con Linear SVC"
      ]
    },
    {
      "cell_type": "code",
      "metadata": {
        "colab": {
          "base_uri": "https://localhost:8080/",
          "height": 349
        },
        "id": "ucFQ-vxzcsDQ",
        "outputId": "c22697d5-5dc1-464e-9a66-4d206714d4ad"
      },
      "source": [
        "model = LinearSVC()\n",
        "tfidf = TfidfVectorizer(tokenizer = text_data_cleaning)\n",
        "classifier = model\n",
        "X_train, X_test, y_train, y_test = train_test_split(x, y, train_size=.7, random_state=42)\n",
        "clf = Pipeline([('tfidf', tfidf), ('clf', classifier)])\n",
        "clf.fit(X_train, y_train)\n",
        "y_pred = clf.predict(X_test)\n",
        "print_metrics(y_test, y_pred)"
      ],
      "execution_count": null,
      "outputs": [
        {
          "name": "stdout",
          "output_type": "stream",
          "text": [
            "Accuracy:  0.77\n",
            "f1_score:  0.77\n",
            "Precision:  0.78\n",
            "recall_score:  0.77\n"
          ]
        },
        {
          "data": {
            "image/png": "[encoded data removed]",
            "text/plain": [
              "<Figure size 432x288 with 2 Axes>"
            ]
          },
          "metadata": {},
          "output_type": "display_data"
        }
      ]
    },
    {
      "cell_type": "code",
      "metadata": {
        "colab": {
          "base_uri": "https://localhost:8080/",
          "height": 204
        },
        "id": "4rXADmkScsDQ",
        "outputId": "1438ea0c-9138-44e8-d60a-2f3be8aa235d"
      },
      "source": [
        "df_test = pd.DataFrame()\n",
        "df_test['X_test'] = X_test\n",
        "df_test['y_test'] = y_test\n",
        "df_test['y_pred'] = y_pred\n",
        "df_test['dif'] = y_test != y_pred\n",
        "df_dif = df_test[df_test['dif'] == True]\n",
        "df_dif.head(5)"
      ],
      "execution_count": null,
      "outputs": [
        {
          "data": {
            "text/html": [
              "<div>\n",
              "<style scoped>\n",
              "    .dataframe tbody tr th:only-of-type {\n",
              "        vertical-align: middle;\n",
              "    }\n",
              "\n",
              "    .dataframe tbody tr th {\n",
              "        vertical-align: top;\n",
              "    }\n",
              "\n",
              "    .dataframe thead th {\n",
              "        text-align: right;\n",
              "    }\n",
              "</style>\n",
              "<table border=\"1\" class=\"dataframe\">\n",
              "  <thead>\n",
              "    <tr style=\"text-align: right;\">\n",
              "      <th></th>\n",
              "      <th>X_test</th>\n",
              "      <th>y_test</th>\n",
              "      <th>y_pred</th>\n",
              "      <th>dif</th>\n",
              "    </tr>\n",
              "  </thead>\n",
              "  <tbody>\n",
              "    <tr>\n",
              "      <th>2247</th>\n",
              "      <td>Las bancas rojas😢</td>\n",
              "      <td>1</td>\n",
              "      <td>0</td>\n",
              "      <td>True</td>\n",
              "    </tr>\n",
              "    <tr>\n",
              "      <th>2063</th>\n",
              "      <td>Si voy a poder mi examen si he pagado y no he ...</td>\n",
              "      <td>1</td>\n",
              "      <td>-1</td>\n",
              "      <td>True</td>\n",
              "    </tr>\n",
              "    <tr>\n",
              "      <th>2059</th>\n",
              "      <td>con todo el sol asfddbnksdd</td>\n",
              "      <td>-1</td>\n",
              "      <td>0</td>\n",
              "      <td>True</td>\n",
              "    </tr>\n",
              "    <tr>\n",
              "      <th>2560</th>\n",
              "      <td>Al fin, un poco de humanidad carajo!!! La educ...</td>\n",
              "      <td>0</td>\n",
              "      <td>-1</td>\n",
              "      <td>True</td>\n",
              "    </tr>\n",
              "    <tr>\n",
              "      <th>1135</th>\n",
              "      <td>¿Para cuando Artes Escénicas en Monterrico?, :(</td>\n",
              "      <td>1</td>\n",
              "      <td>0</td>\n",
              "      <td>True</td>\n",
              "    </tr>\n",
              "  </tbody>\n",
              "</table>\n",
              "</div>"
            ],
            "text/plain": [
              "                                                 X_test  y_test  y_pred   dif\n",
              "2247                                  Las bancas rojas😢       1       0  True\n",
              "2063  Si voy a poder mi examen si he pagado y no he ...       1      -1  True\n",
              "2059                        con todo el sol asfddbnksdd      -1       0  True\n",
              "2560  Al fin, un poco de humanidad carajo!!! La educ...       0      -1  True\n",
              "1135    ¿Para cuando Artes Escénicas en Monterrico?, :(       1       0  True"
            ]
          },
          "execution_count": 7,
          "metadata": {},
          "output_type": "execute_result"
        }
      ]
    },
    {
      "cell_type": "code",
      "metadata": {
        "id": "APhVSFWOKExO"
      },
      "source": [
        "hidden_layer_sizes = [(100, )]"
      ],
      "execution_count": null,
      "outputs": []
    },
    {
      "cell_type": "code",
      "metadata": {
        "colab": {
          "background_save": true
        },
        "id": "6lN1TQ1wJ984",
        "outputId": "750bc0cc-24c2-4d30-c865-7ad2a1356d55"
      },
      "source": [
        "%%time\n",
        "# Import necessary modules\n",
        "from sklearn.model_selection import train_test_split\n",
        "from sklearn.linear_model import LogisticRegression\n",
        "from sklearn.model_selection import GridSearchCV\n",
        "\n",
        "# Create the hyperparameter grid\n",
        "param_grid = {\n",
        "    'clf__hidden_layer_sizes': hidden_layer_sizes\n",
        "}\n",
        "\n",
        "# Instantiate the logistic regression classifier: logreg\n",
        "tfidf = TfidfVectorizer(tokenizer = text_data_cleaning)\n",
        "classifier = MLPClassifier(random_state=0, max_iter=300, learning_rate = 'constant', alpha=0.05\n",
        "                           , activation = 'logistic', solver='adam', verbose=True)\n",
        "X_train, X_test, y_train, y_test = train_test_split(x, y, train_size=.7, random_state=42, stratify=y)\n",
        "clf = Pipeline([('tfidf', tfidf), ('clf', classifier)])\n",
        "\n",
        "# Instantiate the GridSearchCV object: logreg_cv\n",
        "model = GridSearchCV(clf, param_grid, cv=10, scoring='accuracy', n_jobs=-1)\n",
        "\n",
        "# Fit it to the training data\n",
        "model.fit(X_train, y_train)\n",
        "\n",
        "# Print the optimal parameters and best score\n",
        "print(\"Tuned Logistic Regression Parameter: {}\".format(model.best_params_))\n",
        "print(\"Tuned Logistic Regression Accuracy: {}\".format(model.best_score_))\n"
      ],
      "execution_count": null,
      "outputs": [
        {
          "name": "stdout",
          "output_type": "stream",
          "text": [
            "Iteration 1, loss = 1.09283795\n",
            "Iteration 2, loss = 1.06253921\n",
            "Iteration 3, loss = 1.04695940\n",
            "Iteration 4, loss = 1.03834246\n",
            "Iteration 5, loss = 1.03097232\n",
            "Iteration 6, loss = 1.02290865\n",
            "Iteration 7, loss = 1.01648946\n",
            "Iteration 8, loss = 1.00765199\n",
            "Iteration 9, loss = 1.00034196\n",
            "Iteration 10, loss = 0.99163917\n",
            "Iteration 11, loss = 0.98400749\n",
            "Iteration 12, loss = 0.97452464\n",
            "Iteration 13, loss = 0.96548467\n",
            "Iteration 14, loss = 0.95502775\n",
            "Iteration 15, loss = 0.94588139\n",
            "Iteration 16, loss = 0.93504456\n",
            "Iteration 17, loss = 0.92377352\n",
            "Iteration 18, loss = 0.91230076\n",
            "Iteration 19, loss = 0.90046836\n",
            "Iteration 20, loss = 0.88800851\n",
            "Iteration 21, loss = 0.87582743\n",
            "Iteration 22, loss = 0.86384443\n",
            "Iteration 23, loss = 0.85163314\n",
            "Iteration 24, loss = 0.83924557\n",
            "Iteration 25, loss = 0.82788267\n",
            "Iteration 26, loss = 0.81564217\n",
            "Iteration 27, loss = 0.80509703\n",
            "Iteration 28, loss = 0.79349960\n",
            "Iteration 29, loss = 0.78274937\n",
            "Iteration 30, loss = 0.77283963\n",
            "Iteration 31, loss = 0.76276701\n",
            "Iteration 32, loss = 0.75365791\n",
            "Iteration 33, loss = 0.74382872\n",
            "Iteration 34, loss = 0.73567196\n",
            "Iteration 35, loss = 0.72671840\n",
            "Iteration 36, loss = 0.71915402\n",
            "Iteration 37, loss = 0.71057920\n",
            "Iteration 38, loss = 0.70375064\n",
            "Iteration 39, loss = 0.69717370\n",
            "Iteration 40, loss = 0.68944326\n",
            "Iteration 41, loss = 0.68315458\n",
            "Iteration 42, loss = 0.67679314\n",
            "Iteration 43, loss = 0.67070200\n",
            "Iteration 44, loss = 0.66516795\n",
            "Iteration 45, loss = 0.65918143\n",
            "Iteration 46, loss = 0.65385783\n",
            "Iteration 47, loss = 0.64890389\n",
            "Iteration 48, loss = 0.64412442\n",
            "Iteration 49, loss = 0.63896117\n",
            "Iteration 50, loss = 0.63480667\n",
            "Iteration 51, loss = 0.63076294\n",
            "Iteration 52, loss = 0.62620605\n",
            "Iteration 53, loss = 0.62191154\n",
            "Iteration 54, loss = 0.61708537\n",
            "Iteration 55, loss = 0.61282274\n",
            "Iteration 56, loss = 0.60964324\n",
            "Iteration 57, loss = 0.60658008\n",
            "Iteration 58, loss = 0.60176353\n",
            "Iteration 59, loss = 0.59795492\n",
            "Iteration 60, loss = 0.59513866\n",
            "Iteration 61, loss = 0.59175325\n",
            "Iteration 62, loss = 0.58774426\n",
            "Iteration 63, loss = 0.58475203\n",
            "Iteration 64, loss = 0.58158707\n",
            "Iteration 65, loss = 0.57783724\n",
            "Iteration 66, loss = 0.57464000\n",
            "Iteration 67, loss = 0.57180695\n",
            "Iteration 68, loss = 0.56866743\n",
            "Iteration 69, loss = 0.56622510\n",
            "Iteration 70, loss = 0.56294561\n",
            "Iteration 71, loss = 0.56021478\n",
            "Iteration 72, loss = 0.55749985\n",
            "Iteration 73, loss = 0.55479164\n",
            "Iteration 74, loss = 0.55252427\n",
            "Iteration 75, loss = 0.55003531\n",
            "Iteration 76, loss = 0.54707606\n",
            "Iteration 77, loss = 0.54436875\n",
            "Iteration 78, loss = 0.54182997\n",
            "Iteration 79, loss = 0.53940359\n",
            "Iteration 80, loss = 0.53697464\n",
            "Iteration 81, loss = 0.53479653\n",
            "Iteration 82, loss = 0.53245877\n",
            "Iteration 83, loss = 0.53013305\n",
            "Iteration 84, loss = 0.52765856\n",
            "Iteration 85, loss = 0.52565925\n",
            "Iteration 86, loss = 0.52329424\n",
            "Iteration 87, loss = 0.52165875\n",
            "Iteration 88, loss = 0.51915714\n",
            "Iteration 89, loss = 0.51795996\n",
            "Iteration 90, loss = 0.51492074\n",
            "Iteration 91, loss = 0.51298315\n",
            "Iteration 92, loss = 0.51045435\n",
            "Iteration 93, loss = 0.50921990\n",
            "Iteration 94, loss = 0.50707814\n",
            "Iteration 95, loss = 0.50500664\n",
            "Iteration 96, loss = 0.50318636\n",
            "Iteration 97, loss = 0.50060326\n",
            "Iteration 98, loss = 0.49928604\n",
            "Iteration 99, loss = 0.49708499\n",
            "Iteration 100, loss = 0.49561800\n",
            "Iteration 101, loss = 0.49347568\n",
            "Iteration 102, loss = 0.49183848\n",
            "Iteration 103, loss = 0.48987387\n",
            "Iteration 104, loss = 0.48807861\n",
            "Iteration 105, loss = 0.48622873\n",
            "Iteration 106, loss = 0.48500556\n",
            "Iteration 107, loss = 0.48337983\n",
            "Iteration 108, loss = 0.48138729\n",
            "Iteration 109, loss = 0.47952645\n",
            "Iteration 110, loss = 0.47808369\n",
            "Iteration 111, loss = 0.47631632\n",
            "Iteration 112, loss = 0.47482661\n",
            "Iteration 113, loss = 0.47325518\n",
            "Iteration 114, loss = 0.47139736\n",
            "Iteration 115, loss = 0.47033292\n",
            "Iteration 116, loss = 0.46854969\n",
            "Iteration 117, loss = 0.46709865\n",
            "Iteration 118, loss = 0.46568007\n",
            "Iteration 119, loss = 0.46418147\n",
            "Iteration 120, loss = 0.46361450\n",
            "Iteration 121, loss = 0.46144022\n",
            "Iteration 122, loss = 0.45993832\n",
            "Iteration 123, loss = 0.45827914\n",
            "Iteration 124, loss = 0.45702879\n",
            "Iteration 125, loss = 0.45584682\n",
            "Iteration 126, loss = 0.45420602\n",
            "Iteration 127, loss = 0.45421412\n",
            "Iteration 128, loss = 0.45184295\n",
            "Iteration 129, loss = 0.45018622\n",
            "Iteration 130, loss = 0.44892830\n",
            "Iteration 131, loss = 0.44794366\n",
            "Iteration 132, loss = 0.44625418\n",
            "Iteration 133, loss = 0.44492998\n",
            "Iteration 134, loss = 0.44355397\n",
            "Iteration 135, loss = 0.44229242\n",
            "Iteration 136, loss = 0.44114020\n",
            "Iteration 137, loss = 0.44032735\n",
            "Iteration 138, loss = 0.43897175\n",
            "Iteration 139, loss = 0.43784264\n",
            "Iteration 140, loss = 0.43717942\n",
            "Iteration 141, loss = 0.43613302\n",
            "Iteration 142, loss = 0.43448913\n",
            "Iteration 143, loss = 0.43285367\n",
            "Iteration 144, loss = 0.43162086\n",
            "Iteration 145, loss = 0.43041901\n",
            "Iteration 146, loss = 0.42923610\n",
            "Iteration 147, loss = 0.42913968\n",
            "Iteration 148, loss = 0.42744716\n",
            "Iteration 149, loss = 0.42576889\n",
            "Iteration 150, loss = 0.42499477\n",
            "Iteration 151, loss = 0.42404297\n",
            "Iteration 152, loss = 0.42296835\n",
            "Iteration 153, loss = 0.42185073\n",
            "Iteration 154, loss = 0.42091493\n",
            "Iteration 155, loss = 0.42008918\n",
            "Iteration 156, loss = 0.41863802\n",
            "Iteration 157, loss = 0.41810541\n",
            "Iteration 158, loss = 0.41659869\n",
            "Iteration 159, loss = 0.41578437\n",
            "Iteration 160, loss = 0.41508301\n",
            "Iteration 161, loss = 0.41388924\n",
            "Iteration 162, loss = 0.41256117\n",
            "Iteration 163, loss = 0.41218551\n",
            "Iteration 164, loss = 0.41080252\n",
            "Iteration 165, loss = 0.40993277\n",
            "Iteration 166, loss = 0.40981048\n",
            "Iteration 167, loss = 0.40788193\n",
            "Iteration 168, loss = 0.40702601\n",
            "Iteration 169, loss = 0.40628750\n",
            "Iteration 170, loss = 0.40517797\n",
            "Iteration 171, loss = 0.40451867\n",
            "Iteration 172, loss = 0.40345266\n",
            "Iteration 173, loss = 0.40249414\n",
            "Iteration 174, loss = 0.40162788\n",
            "Iteration 175, loss = 0.40104951\n",
            "Iteration 176, loss = 0.39987941\n",
            "Iteration 177, loss = 0.39911027\n",
            "Iteration 178, loss = 0.39815533\n",
            "Iteration 179, loss = 0.39784059\n",
            "Iteration 180, loss = 0.39628463\n",
            "Iteration 181, loss = 0.39576556\n",
            "Iteration 182, loss = 0.39501927\n",
            "Iteration 183, loss = 0.39436118\n",
            "Iteration 184, loss = 0.39341654\n",
            "Iteration 185, loss = 0.39265069\n",
            "Iteration 186, loss = 0.39212099\n",
            "Iteration 187, loss = 0.39064154\n",
            "Iteration 188, loss = 0.39078629\n",
            "Iteration 189, loss = 0.38934934\n",
            "Iteration 190, loss = 0.38832954\n",
            "Iteration 191, loss = 0.38794324\n",
            "Iteration 192, loss = 0.38717438\n",
            "Iteration 193, loss = 0.38617572\n",
            "Iteration 194, loss = 0.38580043\n",
            "Iteration 195, loss = 0.38496722\n",
            "Iteration 196, loss = 0.38382946\n",
            "Iteration 197, loss = 0.38373615\n",
            "Iteration 198, loss = 0.38263318\n",
            "Iteration 199, loss = 0.38159036\n",
            "Iteration 200, loss = 0.38103503\n",
            "Iteration 201, loss = 0.38044496\n",
            "Iteration 202, loss = 0.37984530\n",
            "Iteration 203, loss = 0.37901658\n",
            "Iteration 204, loss = 0.37838982\n",
            "Iteration 205, loss = 0.37760372\n",
            "Iteration 206, loss = 0.37727594\n",
            "Iteration 207, loss = 0.37655364\n",
            "Iteration 208, loss = 0.37538164\n",
            "Iteration 209, loss = 0.37504078\n",
            "Iteration 210, loss = 0.37416476\n",
            "Iteration 211, loss = 0.37396012\n",
            "Iteration 212, loss = 0.37355541\n",
            "Iteration 213, loss = 0.37247354\n",
            "Iteration 214, loss = 0.37172785\n",
            "Iteration 215, loss = 0.37125368\n",
            "Iteration 216, loss = 0.37048618\n",
            "Iteration 217, loss = 0.37005163\n",
            "Iteration 218, loss = 0.36926697\n",
            "Iteration 219, loss = 0.36912725\n",
            "Iteration 220, loss = 0.36809875\n",
            "Iteration 221, loss = 0.36782811\n",
            "Iteration 222, loss = 0.36705506\n",
            "Iteration 223, loss = 0.36603348\n",
            "Iteration 224, loss = 0.36542125\n",
            "Iteration 225, loss = 0.36505060\n",
            "Iteration 226, loss = 0.36419758\n",
            "Iteration 227, loss = 0.36379165\n",
            "Iteration 228, loss = 0.36395693\n",
            "Iteration 229, loss = 0.36250367\n",
            "Iteration 230, loss = 0.36214211\n",
            "Iteration 231, loss = 0.36137789\n",
            "Iteration 232, loss = 0.36087784\n",
            "Iteration 233, loss = 0.36025281\n",
            "Iteration 234, loss = 0.36005588\n",
            "Iteration 235, loss = 0.36038952\n",
            "Iteration 236, loss = 0.35953223\n",
            "Iteration 237, loss = 0.35832341\n",
            "Iteration 238, loss = 0.35731787\n",
            "Iteration 239, loss = 0.35738411\n",
            "Iteration 240, loss = 0.35620470\n",
            "Iteration 241, loss = 0.35592474\n",
            "Iteration 242, loss = 0.35560364\n",
            "Iteration 243, loss = 0.35479739\n",
            "Iteration 244, loss = 0.35421451\n",
            "Iteration 245, loss = 0.35376154\n",
            "Iteration 246, loss = 0.35347163\n",
            "Iteration 247, loss = 0.35280654\n",
            "Iteration 248, loss = 0.35244288\n",
            "Iteration 249, loss = 0.35194326\n",
            "Iteration 250, loss = 0.35145083\n",
            "Iteration 251, loss = 0.35070718\n",
            "Iteration 252, loss = 0.35025037\n",
            "Iteration 253, loss = 0.34973065\n",
            "Iteration 254, loss = 0.34981820\n",
            "Iteration 255, loss = 0.34895786\n",
            "Iteration 256, loss = 0.34833465\n",
            "Iteration 257, loss = 0.34788407\n",
            "Iteration 258, loss = 0.34749837\n",
            "Iteration 259, loss = 0.34679450\n",
            "Iteration 260, loss = 0.34650667\n",
            "Iteration 261, loss = 0.34575687\n",
            "Iteration 262, loss = 0.34562969\n",
            "Iteration 263, loss = 0.34525237\n",
            "Iteration 264, loss = 0.34450861\n",
            "Iteration 265, loss = 0.34414870\n",
            "Iteration 266, loss = 0.34428003\n",
            "Iteration 267, loss = 0.34369091\n",
            "Iteration 268, loss = 0.34321162\n",
            "Iteration 269, loss = 0.34289914\n",
            "Iteration 270, loss = 0.34224867\n",
            "Iteration 271, loss = 0.34189534\n",
            "Iteration 272, loss = 0.34157299\n",
            "Iteration 273, loss = 0.34056320\n",
            "Iteration 274, loss = 0.34018760\n",
            "Iteration 275, loss = 0.33964695\n",
            "Iteration 276, loss = 0.33942749\n",
            "Iteration 277, loss = 0.33898837\n",
            "Iteration 278, loss = 0.33866166\n",
            "Iteration 279, loss = 0.33827632\n",
            "Iteration 280, loss = 0.33774572\n",
            "Iteration 281, loss = 0.33718590\n",
            "Iteration 282, loss = 0.33686747\n",
            "Iteration 283, loss = 0.33675296\n",
            "Iteration 284, loss = 0.33595935\n",
            "Iteration 285, loss = 0.33564623\n",
            "Iteration 286, loss = 0.33525330\n",
            "Iteration 287, loss = 0.33528412\n",
            "Iteration 288, loss = 0.33460909\n",
            "Iteration 289, loss = 0.33398503\n",
            "Iteration 290, loss = 0.33390967\n",
            "Iteration 291, loss = 0.33333261\n",
            "Iteration 292, loss = 0.33322187\n",
            "Iteration 293, loss = 0.33255444\n",
            "Iteration 294, loss = 0.33221351\n",
            "Iteration 295, loss = 0.33181738\n",
            "Iteration 296, loss = 0.33131448\n",
            "Iteration 297, loss = 0.33129826\n",
            "Iteration 298, loss = 0.33082737\n",
            "Iteration 299, loss = 0.33036082\n",
            "Iteration 300, loss = 0.33005561\n",
            "Tuned Logistic Regression Parameter: {'clf__hidden_layer_sizes': (100,)}\n",
            "Tuned Logistic Regression Accuracy: nan\n"
          ]
        },
        {
          "name": "stderr",
          "output_type": "stream",
          "text": [
            "/usr/local/lib/python3.7/dist-packages/sklearn/neural_network/_multilayer_perceptron.py:571: ConvergenceWarning:\n",
            "\n",
            "Stochastic Optimizer: Maximum iterations (300) reached and the optimization hasn't converged yet.\n",
            "\n"
          ]
        }
      ]
    },
    {
      "cell_type": "markdown",
      "metadata": {
        "id": "mm3vKAaGcsDQ"
      },
      "source": [
        "# Linear SVC"
      ]
    },
    {
      "cell_type": "code",
      "metadata": {
        "colab": {
          "base_uri": "https://localhost:8080/",
          "height": 173
        },
        "id": "yz1ml9oCcsDR",
        "outputId": "6917e649-6aca-47a3-8c1a-c2f010128773"
      },
      "source": [
        "model = LinearSVC()\n",
        "evaluate_model(model, x, y)"
      ],
      "execution_count": null,
      "outputs": [
        {
          "name": "stdout",
          "output_type": "stream",
          "text": [
            "[0.78220859 0.77607362 0.76380368 0.78834356 0.78527607 0.79754601\n",
            " 0.7208589  0.67177914 0.76380368 0.56      ]\n",
            "0.7409693251533742\n",
            "Accuracy:  0.77\n",
            "f1_score:  0.77\n",
            "Precision:  0.78\n",
            "recall_score:  0.77\n"
          ]
        },
        {
          "data": {
            "image/png": "[encoded data removed]",
            "text/plain": [
              "<Figure size 432x288 with 2 Axes>"
            ]
          },
          "metadata": {},
          "output_type": "display_data"
        }
      ]
    },
    {
      "cell_type": "markdown",
      "metadata": {
        "id": "ghrc_nSdcsDR"
      },
      "source": [
        "# Naive Bayes"
      ]
    },
    {
      "cell_type": "code",
      "metadata": {
        "id": "waCl6pAScsDR",
        "outputId": "08f88d78-650d-4d3b-8a44-9c4951130564"
      },
      "source": [
        "from sklearn.naive_bayes import MultinomialNB\n",
        "model = MultinomialNB()\n",
        "evaluate_model(model, x, y)"
      ],
      "execution_count": null,
      "outputs": [
        {
          "name": "stderr",
          "output_type": "stream",
          "text": [
            "C:\\Users\\Luis\\anaconda3\\lib\\site-packages\\sklearn\\feature_extraction\\text.py:1208: UserWarning: Upper case characters found in vocabulary while 'lowercase' is True. These entries will not be matched with any documents\n",
            "  warnings.warn(\n",
            "C:\\Users\\Luis\\anaconda3\\lib\\site-packages\\sklearn\\feature_extraction\\text.py:1208: UserWarning: Upper case characters found in vocabulary while 'lowercase' is True. These entries will not be matched with any documents\n",
            "  warnings.warn(\n",
            "C:\\Users\\Luis\\anaconda3\\lib\\site-packages\\sklearn\\feature_extraction\\text.py:1208: UserWarning: Upper case characters found in vocabulary while 'lowercase' is True. These entries will not be matched with any documents\n",
            "  warnings.warn(\n",
            "C:\\Users\\Luis\\anaconda3\\lib\\site-packages\\sklearn\\feature_extraction\\text.py:1208: UserWarning: Upper case characters found in vocabulary while 'lowercase' is True. These entries will not be matched with any documents\n",
            "  warnings.warn(\n",
            "C:\\Users\\Luis\\anaconda3\\lib\\site-packages\\sklearn\\feature_extraction\\text.py:1208: UserWarning: Upper case characters found in vocabulary while 'lowercase' is True. These entries will not be matched with any documents\n",
            "  warnings.warn(\n",
            "C:\\Users\\Luis\\anaconda3\\lib\\site-packages\\sklearn\\feature_extraction\\text.py:1208: UserWarning: Upper case characters found in vocabulary while 'lowercase' is True. These entries will not be matched with any documents\n",
            "  warnings.warn(\n",
            "C:\\Users\\Luis\\anaconda3\\lib\\site-packages\\sklearn\\feature_extraction\\text.py:1208: UserWarning: Upper case characters found in vocabulary while 'lowercase' is True. These entries will not be matched with any documents\n",
            "  warnings.warn(\n",
            "C:\\Users\\Luis\\anaconda3\\lib\\site-packages\\sklearn\\feature_extraction\\text.py:1208: UserWarning: Upper case characters found in vocabulary while 'lowercase' is True. These entries will not be matched with any documents\n",
            "  warnings.warn(\n",
            "C:\\Users\\Luis\\anaconda3\\lib\\site-packages\\sklearn\\feature_extraction\\text.py:1208: UserWarning: Upper case characters found in vocabulary while 'lowercase' is True. These entries will not be matched with any documents\n",
            "  warnings.warn(\n"
          ]
        },
        {
          "name": "stdout",
          "output_type": "stream",
          "text": [
            "[0.75153374 0.7392638  0.7392638  0.75766871 0.79754601 0.74233129\n",
            " 0.67484663 0.65030675 0.70858896 0.62153846]\n",
            "0.7182888154789995\n"
          ]
        },
        {
          "name": "stderr",
          "output_type": "stream",
          "text": [
            "C:\\Users\\Luis\\anaconda3\\lib\\site-packages\\sklearn\\feature_extraction\\text.py:1208: UserWarning: Upper case characters found in vocabulary while 'lowercase' is True. These entries will not be matched with any documents\n",
            "  warnings.warn(\n"
          ]
        },
        {
          "name": "stdout",
          "output_type": "stream",
          "text": [
            "Accuracy:  0.76\n"
          ]
        },
        {
          "data": {
            "image/png": "[encoded data removed]",
            "text/plain": [
              "<Figure size 432x288 with 2 Axes>"
            ]
          },
          "metadata": {},
          "output_type": "display_data"
        }
      ]
    },
    {
      "cell_type": "markdown",
      "metadata": {
        "id": "aqNAZRj5ANep"
      },
      "source": [
        "# Logistic Regression"
      ]
    },
    {
      "cell_type": "code",
      "metadata": {
        "id": "PJR1GX0vcsDS",
        "outputId": "b1754d4a-c8bd-4732-d750-4458340a505c"
      },
      "source": [
        "model = LogisticRegression(random_state=0, C=100)\n",
        "evaluate_model(model, x, y)"
      ],
      "execution_count": null,
      "outputs": [
        {
          "name": "stderr",
          "output_type": "stream",
          "text": [
            "C:\\Users\\Luis\\anaconda3\\lib\\site-packages\\sklearn\\linear_model\\_logistic.py:814: ConvergenceWarning: lbfgs failed to converge (status=1):\n",
            "STOP: TOTAL NO. of ITERATIONS REACHED LIMIT.\n",
            "\n",
            "Increase the number of iterations (max_iter) or scale the data as shown in:\n",
            "    https://scikit-learn.org/stable/modules/preprocessing.html\n",
            "Please also refer to the documentation for alternative solver options:\n",
            "    https://scikit-learn.org/stable/modules/linear_model.html#logistic-regression\n",
            "  n_iter_i = _check_optimize_result(\n",
            "C:\\Users\\Luis\\anaconda3\\lib\\site-packages\\sklearn\\feature_extraction\\text.py:1208: UserWarning: Upper case characters found in vocabulary while 'lowercase' is True. These entries will not be matched with any documents\n",
            "  warnings.warn(\n",
            "C:\\Users\\Luis\\anaconda3\\lib\\site-packages\\sklearn\\linear_model\\_logistic.py:814: ConvergenceWarning: lbfgs failed to converge (status=1):\n",
            "STOP: TOTAL NO. of ITERATIONS REACHED LIMIT.\n",
            "\n",
            "Increase the number of iterations (max_iter) or scale the data as shown in:\n",
            "    https://scikit-learn.org/stable/modules/preprocessing.html\n",
            "Please also refer to the documentation for alternative solver options:\n",
            "    https://scikit-learn.org/stable/modules/linear_model.html#logistic-regression\n",
            "  n_iter_i = _check_optimize_result(\n",
            "C:\\Users\\Luis\\anaconda3\\lib\\site-packages\\sklearn\\feature_extraction\\text.py:1208: UserWarning: Upper case characters found in vocabulary while 'lowercase' is True. These entries will not be matched with any documents\n",
            "  warnings.warn(\n",
            "C:\\Users\\Luis\\anaconda3\\lib\\site-packages\\sklearn\\linear_model\\_logistic.py:814: ConvergenceWarning: lbfgs failed to converge (status=1):\n",
            "STOP: TOTAL NO. of ITERATIONS REACHED LIMIT.\n",
            "\n",
            "Increase the number of iterations (max_iter) or scale the data as shown in:\n",
            "    https://scikit-learn.org/stable/modules/preprocessing.html\n",
            "Please also refer to the documentation for alternative solver options:\n",
            "    https://scikit-learn.org/stable/modules/linear_model.html#logistic-regression\n",
            "  n_iter_i = _check_optimize_result(\n",
            "C:\\Users\\Luis\\anaconda3\\lib\\site-packages\\sklearn\\feature_extraction\\text.py:1208: UserWarning: Upper case characters found in vocabulary while 'lowercase' is True. These entries will not be matched with any documents\n",
            "  warnings.warn(\n",
            "C:\\Users\\Luis\\anaconda3\\lib\\site-packages\\sklearn\\linear_model\\_logistic.py:814: ConvergenceWarning: lbfgs failed to converge (status=1):\n",
            "STOP: TOTAL NO. of ITERATIONS REACHED LIMIT.\n",
            "\n",
            "Increase the number of iterations (max_iter) or scale the data as shown in:\n",
            "    https://scikit-learn.org/stable/modules/preprocessing.html\n",
            "Please also refer to the documentation for alternative solver options:\n",
            "    https://scikit-learn.org/stable/modules/linear_model.html#logistic-regression\n",
            "  n_iter_i = _check_optimize_result(\n",
            "C:\\Users\\Luis\\anaconda3\\lib\\site-packages\\sklearn\\feature_extraction\\text.py:1208: UserWarning: Upper case characters found in vocabulary while 'lowercase' is True. These entries will not be matched with any documents\n",
            "  warnings.warn(\n",
            "C:\\Users\\Luis\\anaconda3\\lib\\site-packages\\sklearn\\linear_model\\_logistic.py:814: ConvergenceWarning: lbfgs failed to converge (status=1):\n",
            "STOP: TOTAL NO. of ITERATIONS REACHED LIMIT.\n",
            "\n",
            "Increase the number of iterations (max_iter) or scale the data as shown in:\n",
            "    https://scikit-learn.org/stable/modules/preprocessing.html\n",
            "Please also refer to the documentation for alternative solver options:\n",
            "    https://scikit-learn.org/stable/modules/linear_model.html#logistic-regression\n",
            "  n_iter_i = _check_optimize_result(\n",
            "C:\\Users\\Luis\\anaconda3\\lib\\site-packages\\sklearn\\linear_model\\_logistic.py:814: ConvergenceWarning: lbfgs failed to converge (status=1):\n",
            "STOP: TOTAL NO. of ITERATIONS REACHED LIMIT.\n",
            "\n",
            "Increase the number of iterations (max_iter) or scale the data as shown in:\n",
            "    https://scikit-learn.org/stable/modules/preprocessing.html\n",
            "Please also refer to the documentation for alternative solver options:\n",
            "    https://scikit-learn.org/stable/modules/linear_model.html#logistic-regression\n",
            "  n_iter_i = _check_optimize_result(\n",
            "C:\\Users\\Luis\\anaconda3\\lib\\site-packages\\sklearn\\feature_extraction\\text.py:1208: UserWarning: Upper case characters found in vocabulary while 'lowercase' is True. These entries will not be matched with any documents\n",
            "  warnings.warn(\n",
            "C:\\Users\\Luis\\anaconda3\\lib\\site-packages\\sklearn\\linear_model\\_logistic.py:814: ConvergenceWarning: lbfgs failed to converge (status=1):\n",
            "STOP: TOTAL NO. of ITERATIONS REACHED LIMIT.\n",
            "\n",
            "Increase the number of iterations (max_iter) or scale the data as shown in:\n",
            "    https://scikit-learn.org/stable/modules/preprocessing.html\n",
            "Please also refer to the documentation for alternative solver options:\n",
            "    https://scikit-learn.org/stable/modules/linear_model.html#logistic-regression\n",
            "  n_iter_i = _check_optimize_result(\n",
            "C:\\Users\\Luis\\anaconda3\\lib\\site-packages\\sklearn\\feature_extraction\\text.py:1208: UserWarning: Upper case characters found in vocabulary while 'lowercase' is True. These entries will not be matched with any documents\n",
            "  warnings.warn(\n",
            "C:\\Users\\Luis\\anaconda3\\lib\\site-packages\\sklearn\\linear_model\\_logistic.py:814: ConvergenceWarning: lbfgs failed to converge (status=1):\n",
            "STOP: TOTAL NO. of ITERATIONS REACHED LIMIT.\n",
            "\n",
            "Increase the number of iterations (max_iter) or scale the data as shown in:\n",
            "    https://scikit-learn.org/stable/modules/preprocessing.html\n",
            "Please also refer to the documentation for alternative solver options:\n",
            "    https://scikit-learn.org/stable/modules/linear_model.html#logistic-regression\n",
            "  n_iter_i = _check_optimize_result(\n",
            "C:\\Users\\Luis\\anaconda3\\lib\\site-packages\\sklearn\\feature_extraction\\text.py:1208: UserWarning: Upper case characters found in vocabulary while 'lowercase' is True. These entries will not be matched with any documents\n",
            "  warnings.warn(\n",
            "C:\\Users\\Luis\\anaconda3\\lib\\site-packages\\sklearn\\linear_model\\_logistic.py:814: ConvergenceWarning: lbfgs failed to converge (status=1):\n",
            "STOP: TOTAL NO. of ITERATIONS REACHED LIMIT.\n",
            "\n",
            "Increase the number of iterations (max_iter) or scale the data as shown in:\n",
            "    https://scikit-learn.org/stable/modules/preprocessing.html\n",
            "Please also refer to the documentation for alternative solver options:\n",
            "    https://scikit-learn.org/stable/modules/linear_model.html#logistic-regression\n",
            "  n_iter_i = _check_optimize_result(\n",
            "C:\\Users\\Luis\\anaconda3\\lib\\site-packages\\sklearn\\feature_extraction\\text.py:1208: UserWarning: Upper case characters found in vocabulary while 'lowercase' is True. These entries will not be matched with any documents\n",
            "  warnings.warn(\n",
            "C:\\Users\\Luis\\anaconda3\\lib\\site-packages\\sklearn\\linear_model\\_logistic.py:814: ConvergenceWarning: lbfgs failed to converge (status=1):\n",
            "STOP: TOTAL NO. of ITERATIONS REACHED LIMIT.\n",
            "\n",
            "Increase the number of iterations (max_iter) or scale the data as shown in:\n",
            "    https://scikit-learn.org/stable/modules/preprocessing.html\n",
            "Please also refer to the documentation for alternative solver options:\n",
            "    https://scikit-learn.org/stable/modules/linear_model.html#logistic-regression\n",
            "  n_iter_i = _check_optimize_result(\n",
            "C:\\Users\\Luis\\anaconda3\\lib\\site-packages\\sklearn\\feature_extraction\\text.py:1208: UserWarning: Upper case characters found in vocabulary while 'lowercase' is True. These entries will not be matched with any documents\n",
            "  warnings.warn(\n"
          ]
        },
        {
          "name": "stdout",
          "output_type": "stream",
          "text": [
            "[0.78220859 0.76380368 0.71165644 0.76380368 0.76993865 0.75766871\n",
            " 0.7392638  0.66871166 0.71779141 0.60307692]\n",
            "0.7277923548843794\n"
          ]
        },
        {
          "name": "stderr",
          "output_type": "stream",
          "text": [
            "C:\\Users\\Luis\\anaconda3\\lib\\site-packages\\sklearn\\linear_model\\_logistic.py:814: ConvergenceWarning: lbfgs failed to converge (status=1):\n",
            "STOP: TOTAL NO. of ITERATIONS REACHED LIMIT.\n",
            "\n",
            "Increase the number of iterations (max_iter) or scale the data as shown in:\n",
            "    https://scikit-learn.org/stable/modules/preprocessing.html\n",
            "Please also refer to the documentation for alternative solver options:\n",
            "    https://scikit-learn.org/stable/modules/linear_model.html#logistic-regression\n",
            "  n_iter_i = _check_optimize_result(\n",
            "C:\\Users\\Luis\\anaconda3\\lib\\site-packages\\sklearn\\feature_extraction\\text.py:1208: UserWarning: Upper case characters found in vocabulary while 'lowercase' is True. These entries will not be matched with any documents\n",
            "  warnings.warn(\n"
          ]
        },
        {
          "name": "stdout",
          "output_type": "stream",
          "text": [
            "Accuracy:  0.77\n"
          ]
        },
        {
          "data": {
            "image/png": "[encoded data removed]",
            "text/plain": [
              "<Figure size 432x288 with 2 Axes>"
            ]
          },
          "metadata": {},
          "output_type": "display_data"
        }
      ]
    },
    {
      "cell_type": "markdown",
      "metadata": {
        "id": "-kDJ2nl3csDS"
      },
      "source": [
        "# máquinas de vectores de soporte"
      ]
    },
    {
      "cell_type": "code",
      "metadata": {
        "id": "nb2yWV-9csDS",
        "outputId": "5a5c580c-cc0a-4add-9146-2ebef3e25f85"
      },
      "source": [
        "model = SVC(C=501, gamma=0.1)\n",
        "evaluate_model(model, x, y)"
      ],
      "execution_count": null,
      "outputs": [
        {
          "name": "stderr",
          "output_type": "stream",
          "text": [
            "C:\\Users\\Luis\\anaconda3\\lib\\site-packages\\sklearn\\feature_extraction\\text.py:1208: UserWarning: Upper case characters found in vocabulary while 'lowercase' is True. These entries will not be matched with any documents\n",
            "  warnings.warn(\n",
            "C:\\Users\\Luis\\anaconda3\\lib\\site-packages\\sklearn\\feature_extraction\\text.py:1208: UserWarning: Upper case characters found in vocabulary while 'lowercase' is True. These entries will not be matched with any documents\n",
            "  warnings.warn(\n",
            "C:\\Users\\Luis\\anaconda3\\lib\\site-packages\\sklearn\\feature_extraction\\text.py:1208: UserWarning: Upper case characters found in vocabulary while 'lowercase' is True. These entries will not be matched with any documents\n",
            "  warnings.warn(\n",
            "C:\\Users\\Luis\\anaconda3\\lib\\site-packages\\sklearn\\feature_extraction\\text.py:1208: UserWarning: Upper case characters found in vocabulary while 'lowercase' is True. These entries will not be matched with any documents\n",
            "  warnings.warn(\n",
            "C:\\Users\\Luis\\anaconda3\\lib\\site-packages\\sklearn\\feature_extraction\\text.py:1208: UserWarning: Upper case characters found in vocabulary while 'lowercase' is True. These entries will not be matched with any documents\n",
            "  warnings.warn(\n",
            "C:\\Users\\Luis\\anaconda3\\lib\\site-packages\\sklearn\\feature_extraction\\text.py:1208: UserWarning: Upper case characters found in vocabulary while 'lowercase' is True. These entries will not be matched with any documents\n",
            "  warnings.warn(\n",
            "C:\\Users\\Luis\\anaconda3\\lib\\site-packages\\sklearn\\feature_extraction\\text.py:1208: UserWarning: Upper case characters found in vocabulary while 'lowercase' is True. These entries will not be matched with any documents\n",
            "  warnings.warn(\n",
            "C:\\Users\\Luis\\anaconda3\\lib\\site-packages\\sklearn\\feature_extraction\\text.py:1208: UserWarning: Upper case characters found in vocabulary while 'lowercase' is True. These entries will not be matched with any documents\n",
            "  warnings.warn(\n",
            "C:\\Users\\Luis\\anaconda3\\lib\\site-packages\\sklearn\\feature_extraction\\text.py:1208: UserWarning: Upper case characters found in vocabulary while 'lowercase' is True. These entries will not be matched with any documents\n",
            "  warnings.warn(\n"
          ]
        },
        {
          "name": "stdout",
          "output_type": "stream",
          "text": [
            "[0.76993865 0.73619632 0.72699387 0.76380368 0.75766871 0.76380368\n",
            " 0.72392638 0.67177914 0.72699387 0.6       ]\n",
            "0.7241104294478528\n"
          ]
        },
        {
          "name": "stderr",
          "output_type": "stream",
          "text": [
            "C:\\Users\\Luis\\anaconda3\\lib\\site-packages\\sklearn\\feature_extraction\\text.py:1208: UserWarning: Upper case characters found in vocabulary while 'lowercase' is True. These entries will not be matched with any documents\n",
            "  warnings.warn(\n"
          ]
        },
        {
          "name": "stdout",
          "output_type": "stream",
          "text": [
            "Accuracy:  0.77\n"
          ]
        },
        {
          "data": {
            "image/png": "[encoded data removed]",
            "text/plain": [
              "<Figure size 432x288 with 2 Axes>"
            ]
          },
          "metadata": {},
          "output_type": "display_data"
        }
      ]
    },
    {
      "cell_type": "markdown",
      "metadata": {
        "id": "j2ZdyjJecsDS"
      },
      "source": [
        "# árboles de decisión"
      ]
    },
    {
      "cell_type": "code",
      "metadata": {
        "id": "KGkwoqvmcsDS",
        "outputId": "35cfa12f-a645-4bab-e700-3172f7694e3b"
      },
      "source": [
        "model = DecisionTreeClassifier()\n",
        "evaluate_model(model, x, y)"
      ],
      "execution_count": null,
      "outputs": [
        {
          "name": "stderr",
          "output_type": "stream",
          "text": [
            "C:\\Users\\Luis\\anaconda3\\lib\\site-packages\\sklearn\\feature_extraction\\text.py:1208: UserWarning: Upper case characters found in vocabulary while 'lowercase' is True. These entries will not be matched with any documents\n",
            "  warnings.warn(\n",
            "C:\\Users\\Luis\\anaconda3\\lib\\site-packages\\sklearn\\feature_extraction\\text.py:1208: UserWarning: Upper case characters found in vocabulary while 'lowercase' is True. These entries will not be matched with any documents\n",
            "  warnings.warn(\n",
            "C:\\Users\\Luis\\anaconda3\\lib\\site-packages\\sklearn\\feature_extraction\\text.py:1208: UserWarning: Upper case characters found in vocabulary while 'lowercase' is True. These entries will not be matched with any documents\n",
            "  warnings.warn(\n",
            "C:\\Users\\Luis\\anaconda3\\lib\\site-packages\\sklearn\\feature_extraction\\text.py:1208: UserWarning: Upper case characters found in vocabulary while 'lowercase' is True. These entries will not be matched with any documents\n",
            "  warnings.warn(\n",
            "C:\\Users\\Luis\\anaconda3\\lib\\site-packages\\sklearn\\feature_extraction\\text.py:1208: UserWarning: Upper case characters found in vocabulary while 'lowercase' is True. These entries will not be matched with any documents\n",
            "  warnings.warn(\n",
            "C:\\Users\\Luis\\anaconda3\\lib\\site-packages\\sklearn\\feature_extraction\\text.py:1208: UserWarning: Upper case characters found in vocabulary while 'lowercase' is True. These entries will not be matched with any documents\n",
            "  warnings.warn(\n",
            "C:\\Users\\Luis\\anaconda3\\lib\\site-packages\\sklearn\\feature_extraction\\text.py:1208: UserWarning: Upper case characters found in vocabulary while 'lowercase' is True. These entries will not be matched with any documents\n",
            "  warnings.warn(\n",
            "C:\\Users\\Luis\\anaconda3\\lib\\site-packages\\sklearn\\feature_extraction\\text.py:1208: UserWarning: Upper case characters found in vocabulary while 'lowercase' is True. These entries will not be matched with any documents\n",
            "  warnings.warn(\n",
            "C:\\Users\\Luis\\anaconda3\\lib\\site-packages\\sklearn\\feature_extraction\\text.py:1208: UserWarning: Upper case characters found in vocabulary while 'lowercase' is True. These entries will not be matched with any documents\n",
            "  warnings.warn(\n"
          ]
        },
        {
          "name": "stdout",
          "output_type": "stream",
          "text": [
            "[0.74846626 0.76687117 0.68711656 0.71165644 0.73619632 0.73006135\n",
            " 0.7208589  0.68711656 0.6993865  0.60615385]\n",
            "0.7093883907503541\n"
          ]
        },
        {
          "name": "stderr",
          "output_type": "stream",
          "text": [
            "C:\\Users\\Luis\\anaconda3\\lib\\site-packages\\sklearn\\feature_extraction\\text.py:1208: UserWarning: Upper case characters found in vocabulary while 'lowercase' is True. These entries will not be matched with any documents\n",
            "  warnings.warn(\n"
          ]
        },
        {
          "name": "stdout",
          "output_type": "stream",
          "text": [
            "Accuracy:  0.72\n"
          ]
        },
        {
          "data": {
            "image/png": "[encoded data removed]",
            "text/plain": [
              "<Figure size 432x288 with 2 Axes>"
            ]
          },
          "metadata": {},
          "output_type": "display_data"
        }
      ]
    },
    {
      "cell_type": "markdown",
      "metadata": {
        "id": "eeIBrGcRcsDT"
      },
      "source": [
        "# Redes Neuronales"
      ]
    },
    {
      "cell_type": "code",
      "metadata": {
        "id": "h7QuDPuZcsDT",
        "outputId": "8d80c056-0ec8-463e-a4ba-832b6f151f4c"
      },
      "source": [
        "model = MLPClassifier(random_state=1, max_iter=10)\n",
        "evaluate_model(model, x, y)"
      ],
      "execution_count": null,
      "outputs": [
        {
          "name": "stderr",
          "output_type": "stream",
          "text": [
            "C:\\Users\\Luis\\anaconda3\\lib\\site-packages\\sklearn\\feature_extraction\\text.py:1208: UserWarning: Upper case characters found in vocabulary while 'lowercase' is True. These entries will not be matched with any documents\n",
            "  warnings.warn(\n",
            "C:\\Users\\Luis\\anaconda3\\lib\\site-packages\\sklearn\\feature_extraction\\text.py:1208: UserWarning: Upper case characters found in vocabulary while 'lowercase' is True. These entries will not be matched with any documents\n",
            "  warnings.warn(\n",
            "C:\\Users\\Luis\\anaconda3\\lib\\site-packages\\sklearn\\feature_extraction\\text.py:1208: UserWarning: Upper case characters found in vocabulary while 'lowercase' is True. These entries will not be matched with any documents\n",
            "  warnings.warn(\n",
            "C:\\Users\\Luis\\anaconda3\\lib\\site-packages\\sklearn\\feature_extraction\\text.py:1208: UserWarning: Upper case characters found in vocabulary while 'lowercase' is True. These entries will not be matched with any documents\n",
            "  warnings.warn(\n",
            "C:\\Users\\Luis\\anaconda3\\lib\\site-packages\\sklearn\\feature_extraction\\text.py:1208: UserWarning: Upper case characters found in vocabulary while 'lowercase' is True. These entries will not be matched with any documents\n",
            "  warnings.warn(\n",
            "C:\\Users\\Luis\\anaconda3\\lib\\site-packages\\sklearn\\feature_extraction\\text.py:1208: UserWarning: Upper case characters found in vocabulary while 'lowercase' is True. These entries will not be matched with any documents\n",
            "  warnings.warn(\n",
            "C:\\Users\\Luis\\anaconda3\\lib\\site-packages\\sklearn\\feature_extraction\\text.py:1208: UserWarning: Upper case characters found in vocabulary while 'lowercase' is True. These entries will not be matched with any documents\n",
            "  warnings.warn(\n",
            "C:\\Users\\Luis\\anaconda3\\lib\\site-packages\\sklearn\\feature_extraction\\text.py:1208: UserWarning: Upper case characters found in vocabulary while 'lowercase' is True. These entries will not be matched with any documents\n",
            "  warnings.warn(\n",
            "C:\\Users\\Luis\\anaconda3\\lib\\site-packages\\sklearn\\feature_extraction\\text.py:1208: UserWarning: Upper case characters found in vocabulary while 'lowercase' is True. These entries will not be matched with any documents\n",
            "  warnings.warn(\n"
          ]
        },
        {
          "name": "stdout",
          "output_type": "stream",
          "text": [
            "[0.77300613 0.7208589  0.70552147 0.76993865 0.76687117 0.76687117\n",
            " 0.7392638  0.66257669 0.71779141 0.61230769]\n",
            "0.723500707881076\n"
          ]
        },
        {
          "name": "stderr",
          "output_type": "stream",
          "text": [
            "C:\\Users\\Luis\\anaconda3\\lib\\site-packages\\sklearn\\feature_extraction\\text.py:1208: UserWarning: Upper case characters found in vocabulary while 'lowercase' is True. These entries will not be matched with any documents\n",
            "  warnings.warn(\n"
          ]
        },
        {
          "name": "stdout",
          "output_type": "stream",
          "text": [
            "Accuracy:  0.77\n"
          ]
        },
        {
          "data": {
            "image/png": "[encoded data removed]",
            "text/plain": [
              "<Figure size 432x288 with 2 Axes>"
            ]
          },
          "metadata": {},
          "output_type": "display_data"
        }
      ]
    },
    {
      "cell_type": "code",
      "metadata": {
        "id": "HA3bNV4AcsDT",
        "outputId": "51cb26fd-9756-4700-bb82-3f97d69738e7"
      },
      "source": [
        "model = MLPClassifier(hidden_layer_sizes=(2,), max_iter=100, learning_rate_init=0.3, activation='logistic')\n",
        "evaluate_model(model, x, y)"
      ],
      "execution_count": null,
      "outputs": [
        {
          "name": "stderr",
          "output_type": "stream",
          "text": [
            "C:\\Users\\Luis\\anaconda3\\lib\\site-packages\\sklearn\\feature_extraction\\text.py:1208: UserWarning: Upper case characters found in vocabulary while 'lowercase' is True. These entries will not be matched with any documents\n",
            "  warnings.warn(\n",
            "C:\\Users\\Luis\\anaconda3\\lib\\site-packages\\sklearn\\feature_extraction\\text.py:1208: UserWarning: Upper case characters found in vocabulary while 'lowercase' is True. These entries will not be matched with any documents\n",
            "  warnings.warn(\n",
            "C:\\Users\\Luis\\anaconda3\\lib\\site-packages\\sklearn\\feature_extraction\\text.py:1208: UserWarning: Upper case characters found in vocabulary while 'lowercase' is True. These entries will not be matched with any documents\n",
            "  warnings.warn(\n",
            "C:\\Users\\Luis\\anaconda3\\lib\\site-packages\\sklearn\\feature_extraction\\text.py:1208: UserWarning: Upper case characters found in vocabulary while 'lowercase' is True. These entries will not be matched with any documents\n",
            "  warnings.warn(\n",
            "C:\\Users\\Luis\\anaconda3\\lib\\site-packages\\sklearn\\feature_extraction\\text.py:1208: UserWarning: Upper case characters found in vocabulary while 'lowercase' is True. These entries will not be matched with any documents\n",
            "  warnings.warn(\n",
            "C:\\Users\\Luis\\anaconda3\\lib\\site-packages\\sklearn\\feature_extraction\\text.py:1208: UserWarning: Upper case characters found in vocabulary while 'lowercase' is True. These entries will not be matched with any documents\n",
            "  warnings.warn(\n",
            "C:\\Users\\Luis\\anaconda3\\lib\\site-packages\\sklearn\\feature_extraction\\text.py:1208: UserWarning: Upper case characters found in vocabulary while 'lowercase' is True. These entries will not be matched with any documents\n",
            "  warnings.warn(\n",
            "C:\\Users\\Luis\\anaconda3\\lib\\site-packages\\sklearn\\feature_extraction\\text.py:1208: UserWarning: Upper case characters found in vocabulary while 'lowercase' is True. These entries will not be matched with any documents\n",
            "  warnings.warn(\n",
            "C:\\Users\\Luis\\anaconda3\\lib\\site-packages\\sklearn\\feature_extraction\\text.py:1208: UserWarning: Upper case characters found in vocabulary while 'lowercase' is True. These entries will not be matched with any documents\n",
            "  warnings.warn(\n"
          ]
        },
        {
          "name": "stdout",
          "output_type": "stream",
          "text": [
            "[0.76993865 0.74539877 0.69325153 0.74539877 0.74233129 0.75766871\n",
            " 0.72392638 0.69018405 0.68711656 0.58461538]\n",
            "0.7139830108541764\n"
          ]
        },
        {
          "name": "stderr",
          "output_type": "stream",
          "text": [
            "C:\\Users\\Luis\\anaconda3\\lib\\site-packages\\sklearn\\feature_extraction\\text.py:1208: UserWarning: Upper case characters found in vocabulary while 'lowercase' is True. These entries will not be matched with any documents\n",
            "  warnings.warn(\n"
          ]
        },
        {
          "name": "stdout",
          "output_type": "stream",
          "text": [
            "Accuracy:  0.76\n"
          ]
        },
        {
          "data": {
            "image/png": "[encoded data removed]",
            "text/plain": [
              "<Figure size 432x288 with 2 Axes>"
            ]
          },
          "metadata": {},
          "output_type": "display_data"
        }
      ]
    },
    {
      "cell_type": "code",
      "metadata": {
        "id": "OHFzp9AzcsDT",
        "outputId": "6d8d62a5-d375-4a21-ab8f-8472f64e3af9"
      },
      "source": [
        "model = MLPClassifier(hidden_layer_sizes=(2,2), max_iter=100, learning_rate_init=0.3, activation='logistic')\n",
        "evaluate_model(model, x, y)"
      ],
      "execution_count": null,
      "outputs": [
        {
          "name": "stderr",
          "output_type": "stream",
          "text": [
            "C:\\Users\\Luis\\anaconda3\\lib\\site-packages\\sklearn\\feature_extraction\\text.py:1208: UserWarning: Upper case characters found in vocabulary while 'lowercase' is True. These entries will not be matched with any documents\n",
            "  warnings.warn(\n",
            "C:\\Users\\Luis\\anaconda3\\lib\\site-packages\\sklearn\\feature_extraction\\text.py:1208: UserWarning: Upper case characters found in vocabulary while 'lowercase' is True. These entries will not be matched with any documents\n",
            "  warnings.warn(\n",
            "C:\\Users\\Luis\\anaconda3\\lib\\site-packages\\sklearn\\feature_extraction\\text.py:1208: UserWarning: Upper case characters found in vocabulary while 'lowercase' is True. These entries will not be matched with any documents\n",
            "  warnings.warn(\n",
            "C:\\Users\\Luis\\anaconda3\\lib\\site-packages\\sklearn\\feature_extraction\\text.py:1208: UserWarning: Upper case characters found in vocabulary while 'lowercase' is True. These entries will not be matched with any documents\n",
            "  warnings.warn(\n",
            "C:\\Users\\Luis\\anaconda3\\lib\\site-packages\\sklearn\\feature_extraction\\text.py:1208: UserWarning: Upper case characters found in vocabulary while 'lowercase' is True. These entries will not be matched with any documents\n",
            "  warnings.warn(\n",
            "C:\\Users\\Luis\\anaconda3\\lib\\site-packages\\sklearn\\feature_extraction\\text.py:1208: UserWarning: Upper case characters found in vocabulary while 'lowercase' is True. These entries will not be matched with any documents\n",
            "  warnings.warn(\n",
            "C:\\Users\\Luis\\anaconda3\\lib\\site-packages\\sklearn\\feature_extraction\\text.py:1208: UserWarning: Upper case characters found in vocabulary while 'lowercase' is True. These entries will not be matched with any documents\n",
            "  warnings.warn(\n",
            "C:\\Users\\Luis\\anaconda3\\lib\\site-packages\\sklearn\\feature_extraction\\text.py:1208: UserWarning: Upper case characters found in vocabulary while 'lowercase' is True. These entries will not be matched with any documents\n",
            "  warnings.warn(\n",
            "C:\\Users\\Luis\\anaconda3\\lib\\site-packages\\sklearn\\feature_extraction\\text.py:1208: UserWarning: Upper case characters found in vocabulary while 'lowercase' is True. These entries will not be matched with any documents\n",
            "  warnings.warn(\n"
          ]
        },
        {
          "name": "stdout",
          "output_type": "stream",
          "text": [
            "[0.73619632 0.73619632 0.70858896 0.74846626 0.7392638  0.72699387\n",
            " 0.7392638  0.67791411 0.70245399 0.53846154]\n",
            "0.7053798961774422\n"
          ]
        },
        {
          "name": "stderr",
          "output_type": "stream",
          "text": [
            "C:\\Users\\Luis\\anaconda3\\lib\\site-packages\\sklearn\\feature_extraction\\text.py:1208: UserWarning: Upper case characters found in vocabulary while 'lowercase' is True. These entries will not be matched with any documents\n",
            "  warnings.warn(\n"
          ]
        },
        {
          "name": "stdout",
          "output_type": "stream",
          "text": [
            "Accuracy:  0.73\n"
          ]
        },
        {
          "data": {
            "image/png": "[encoded data removed]",
            "text/plain": [
              "<Figure size 432x288 with 2 Axes>"
            ]
          },
          "metadata": {},
          "output_type": "display_data"
        }
      ]
    },
    {
      "cell_type": "code",
      "metadata": {
        "id": "MO2g4Wk2csDU",
        "outputId": "f0270fb0-3422-4761-a1bf-d9fc3361288c"
      },
      "source": [
        "model = MLPClassifier(hidden_layer_sizes=(3,4,2), max_iter=100, learning_rate_init=0.3, activation='logistic')\n",
        "evaluate_model(model, x, y)"
      ],
      "execution_count": null,
      "outputs": [
        {
          "name": "stderr",
          "output_type": "stream",
          "text": [
            "C:\\Users\\Luis\\anaconda3\\lib\\site-packages\\sklearn\\feature_extraction\\text.py:1208: UserWarning: Upper case characters found in vocabulary while 'lowercase' is True. These entries will not be matched with any documents\n",
            "  warnings.warn(\n",
            "C:\\Users\\Luis\\anaconda3\\lib\\site-packages\\sklearn\\feature_extraction\\text.py:1208: UserWarning: Upper case characters found in vocabulary while 'lowercase' is True. These entries will not be matched with any documents\n",
            "  warnings.warn(\n",
            "C:\\Users\\Luis\\anaconda3\\lib\\site-packages\\sklearn\\feature_extraction\\text.py:1208: UserWarning: Upper case characters found in vocabulary while 'lowercase' is True. These entries will not be matched with any documents\n",
            "  warnings.warn(\n",
            "C:\\Users\\Luis\\anaconda3\\lib\\site-packages\\sklearn\\feature_extraction\\text.py:1208: UserWarning: Upper case characters found in vocabulary while 'lowercase' is True. These entries will not be matched with any documents\n",
            "  warnings.warn(\n",
            "C:\\Users\\Luis\\anaconda3\\lib\\site-packages\\sklearn\\feature_extraction\\text.py:1208: UserWarning: Upper case characters found in vocabulary while 'lowercase' is True. These entries will not be matched with any documents\n",
            "  warnings.warn(\n",
            "C:\\Users\\Luis\\anaconda3\\lib\\site-packages\\sklearn\\feature_extraction\\text.py:1208: UserWarning: Upper case characters found in vocabulary while 'lowercase' is True. These entries will not be matched with any documents\n",
            "  warnings.warn(\n",
            "C:\\Users\\Luis\\anaconda3\\lib\\site-packages\\sklearn\\feature_extraction\\text.py:1208: UserWarning: Upper case characters found in vocabulary while 'lowercase' is True. These entries will not be matched with any documents\n",
            "  warnings.warn(\n",
            "C:\\Users\\Luis\\anaconda3\\lib\\site-packages\\sklearn\\feature_extraction\\text.py:1208: UserWarning: Upper case characters found in vocabulary while 'lowercase' is True. These entries will not be matched with any documents\n",
            "  warnings.warn(\n",
            "C:\\Users\\Luis\\anaconda3\\lib\\site-packages\\sklearn\\feature_extraction\\text.py:1208: UserWarning: Upper case characters found in vocabulary while 'lowercase' is True. These entries will not be matched with any documents\n",
            "  warnings.warn(\n"
          ]
        },
        {
          "name": "stdout",
          "output_type": "stream",
          "text": [
            "[0.7607362  0.72699387 0.44785276 0.72699387 0.7392638  0.44478528\n",
            " 0.69325153 0.67791411 0.68404908 0.56      ]\n",
            "0.6461840490797546\n"
          ]
        },
        {
          "name": "stderr",
          "output_type": "stream",
          "text": [
            "C:\\Users\\Luis\\anaconda3\\lib\\site-packages\\sklearn\\feature_extraction\\text.py:1208: UserWarning: Upper case characters found in vocabulary while 'lowercase' is True. These entries will not be matched with any documents\n",
            "  warnings.warn(\n"
          ]
        },
        {
          "name": "stdout",
          "output_type": "stream",
          "text": [
            "Accuracy:  0.75\n"
          ]
        },
        {
          "data": {
            "image/png": "[encoded data removed]",
            "text/plain": [
              "<Figure size 432x288 with 2 Axes>"
            ]
          },
          "metadata": {},
          "output_type": "display_data"
        }
      ]
    },
    {
      "cell_type": "code",
      "metadata": {
        "id": "MlZ9ZpuycsDU",
        "outputId": "3dffed2e-2981-45a1-a1f2-265480a6c5e8"
      },
      "source": [
        "model = MLPClassifier(hidden_layer_sizes=(50,50,3), max_iter=100, learning_rate_init=0.3, activation='logistic')\n",
        "evaluate_model(model, x, y)"
      ],
      "execution_count": null,
      "outputs": [
        {
          "name": "stderr",
          "output_type": "stream",
          "text": [
            "C:\\Users\\Luis\\anaconda3\\lib\\site-packages\\sklearn\\feature_extraction\\text.py:1208: UserWarning: Upper case characters found in vocabulary while 'lowercase' is True. These entries will not be matched with any documents\n",
            "  warnings.warn(\n",
            "C:\\Users\\Luis\\anaconda3\\lib\\site-packages\\sklearn\\feature_extraction\\text.py:1208: UserWarning: Upper case characters found in vocabulary while 'lowercase' is True. These entries will not be matched with any documents\n",
            "  warnings.warn(\n",
            "C:\\Users\\Luis\\anaconda3\\lib\\site-packages\\sklearn\\feature_extraction\\text.py:1208: UserWarning: Upper case characters found in vocabulary while 'lowercase' is True. These entries will not be matched with any documents\n",
            "  warnings.warn(\n",
            "C:\\Users\\Luis\\anaconda3\\lib\\site-packages\\sklearn\\feature_extraction\\text.py:1208: UserWarning: Upper case characters found in vocabulary while 'lowercase' is True. These entries will not be matched with any documents\n",
            "  warnings.warn(\n",
            "C:\\Users\\Luis\\anaconda3\\lib\\site-packages\\sklearn\\feature_extraction\\text.py:1208: UserWarning: Upper case characters found in vocabulary while 'lowercase' is True. These entries will not be matched with any documents\n",
            "  warnings.warn(\n",
            "C:\\Users\\Luis\\anaconda3\\lib\\site-packages\\sklearn\\feature_extraction\\text.py:1208: UserWarning: Upper case characters found in vocabulary while 'lowercase' is True. These entries will not be matched with any documents\n",
            "  warnings.warn(\n",
            "C:\\Users\\Luis\\anaconda3\\lib\\site-packages\\sklearn\\feature_extraction\\text.py:1208: UserWarning: Upper case characters found in vocabulary while 'lowercase' is True. These entries will not be matched with any documents\n",
            "  warnings.warn(\n",
            "C:\\Users\\Luis\\anaconda3\\lib\\site-packages\\sklearn\\feature_extraction\\text.py:1208: UserWarning: Upper case characters found in vocabulary while 'lowercase' is True. These entries will not be matched with any documents\n",
            "  warnings.warn(\n",
            "C:\\Users\\Luis\\anaconda3\\lib\\site-packages\\sklearn\\feature_extraction\\text.py:1208: UserWarning: Upper case characters found in vocabulary while 'lowercase' is True. These entries will not be matched with any documents\n",
            "  warnings.warn(\n"
          ]
        },
        {
          "name": "stdout",
          "output_type": "stream",
          "text": [
            "[0.44785276 0.44785276 0.44785276 0.44785276 0.44785276 0.44478528\n",
            " 0.44478528 0.44478528 0.44478528 0.44615385]\n",
            "0.4464558754129307\n"
          ]
        },
        {
          "name": "stderr",
          "output_type": "stream",
          "text": [
            "C:\\Users\\Luis\\anaconda3\\lib\\site-packages\\sklearn\\feature_extraction\\text.py:1208: UserWarning: Upper case characters found in vocabulary while 'lowercase' is True. These entries will not be matched with any documents\n",
            "  warnings.warn(\n"
          ]
        },
        {
          "name": "stdout",
          "output_type": "stream",
          "text": [
            "Accuracy:  0.45\n"
          ]
        },
        {
          "data": {
            "image/png": "[encoded data removed]",
            "text/plain": [
              "<Figure size 432x288 with 2 Axes>"
            ]
          },
          "metadata": {},
          "output_type": "display_data"
        }
      ]
    },
    {
      "cell_type": "code",
      "metadata": {
        "id": "uzJysUQOcsDU",
        "outputId": "aad3c35e-e2c0-4602-cc1d-7fd9fe21c3d0"
      },
      "source": [
        "model = MLPClassifier(hidden_layer_sizes=(100,100,3), max_iter=300, learning_rate_init=0.3, activation='logistic')\n",
        "evaluate_model(model, x, y)"
      ],
      "execution_count": null,
      "outputs": [
        {
          "name": "stderr",
          "output_type": "stream",
          "text": [
            "C:\\Users\\Luis\\anaconda3\\lib\\site-packages\\sklearn\\feature_extraction\\text.py:1208: UserWarning: Upper case characters found in vocabulary while 'lowercase' is True. These entries will not be matched with any documents\n",
            "  warnings.warn(\n",
            "C:\\Users\\Luis\\anaconda3\\lib\\site-packages\\sklearn\\feature_extraction\\text.py:1208: UserWarning: Upper case characters found in vocabulary while 'lowercase' is True. These entries will not be matched with any documents\n",
            "  warnings.warn(\n",
            "C:\\Users\\Luis\\anaconda3\\lib\\site-packages\\sklearn\\feature_extraction\\text.py:1208: UserWarning: Upper case characters found in vocabulary while 'lowercase' is True. These entries will not be matched with any documents\n",
            "  warnings.warn(\n",
            "C:\\Users\\Luis\\anaconda3\\lib\\site-packages\\sklearn\\feature_extraction\\text.py:1208: UserWarning: Upper case characters found in vocabulary while 'lowercase' is True. These entries will not be matched with any documents\n",
            "  warnings.warn(\n",
            "C:\\Users\\Luis\\anaconda3\\lib\\site-packages\\sklearn\\feature_extraction\\text.py:1208: UserWarning: Upper case characters found in vocabulary while 'lowercase' is True. These entries will not be matched with any documents\n",
            "  warnings.warn(\n",
            "C:\\Users\\Luis\\anaconda3\\lib\\site-packages\\sklearn\\feature_extraction\\text.py:1208: UserWarning: Upper case characters found in vocabulary while 'lowercase' is True. These entries will not be matched with any documents\n",
            "  warnings.warn(\n",
            "C:\\Users\\Luis\\anaconda3\\lib\\site-packages\\sklearn\\feature_extraction\\text.py:1208: UserWarning: Upper case characters found in vocabulary while 'lowercase' is True. These entries will not be matched with any documents\n",
            "  warnings.warn(\n",
            "C:\\Users\\Luis\\anaconda3\\lib\\site-packages\\sklearn\\feature_extraction\\text.py:1208: UserWarning: Upper case characters found in vocabulary while 'lowercase' is True. These entries will not be matched with any documents\n",
            "  warnings.warn(\n",
            "C:\\Users\\Luis\\anaconda3\\lib\\site-packages\\sklearn\\feature_extraction\\text.py:1208: UserWarning: Upper case characters found in vocabulary while 'lowercase' is True. These entries will not be matched with any documents\n",
            "  warnings.warn(\n"
          ]
        },
        {
          "name": "stdout",
          "output_type": "stream",
          "text": [
            "[0.44785276 0.44785276 0.31595092 0.44785276 0.44785276 0.44478528\n",
            " 0.44478528 0.44478528 0.44478528 0.44615385]\n",
            "0.4332656913638509\n"
          ]
        },
        {
          "name": "stderr",
          "output_type": "stream",
          "text": [
            "C:\\Users\\Luis\\anaconda3\\lib\\site-packages\\sklearn\\feature_extraction\\text.py:1208: UserWarning: Upper case characters found in vocabulary while 'lowercase' is True. These entries will not be matched with any documents\n",
            "  warnings.warn(\n"
          ]
        },
        {
          "name": "stdout",
          "output_type": "stream",
          "text": [
            "Accuracy:  0.45\n"
          ]
        },
        {
          "data": {
            "image/png": "[encoded data removed]",
            "text/plain": [
              "<Figure size 432x288 with 2 Axes>"
            ]
          },
          "metadata": {},
          "output_type": "display_data"
        }
      ]
    },
    {
      "cell_type": "code",
      "metadata": {
        "id": "DoBKjH3ycsDU",
        "outputId": "860086b0-313b-4522-8159-1978959d2ecf"
      },
      "source": [
        "model = MLPClassifier(hidden_layer_sizes=(100,100,3), max_iter=300, learning_rate_init=0.3)\n",
        "evaluate_model(model, x, y)"
      ],
      "execution_count": null,
      "outputs": [
        {
          "name": "stderr",
          "output_type": "stream",
          "text": [
            "C:\\Users\\Luis\\anaconda3\\lib\\site-packages\\sklearn\\feature_extraction\\text.py:1208: UserWarning: Upper case characters found in vocabulary while 'lowercase' is True. These entries will not be matched with any documents\n",
            "  warnings.warn(\n",
            "C:\\Users\\Luis\\anaconda3\\lib\\site-packages\\sklearn\\feature_extraction\\text.py:1208: UserWarning: Upper case characters found in vocabulary while 'lowercase' is True. These entries will not be matched with any documents\n",
            "  warnings.warn(\n",
            "C:\\Users\\Luis\\anaconda3\\lib\\site-packages\\sklearn\\feature_extraction\\text.py:1208: UserWarning: Upper case characters found in vocabulary while 'lowercase' is True. These entries will not be matched with any documents\n",
            "  warnings.warn(\n",
            "C:\\Users\\Luis\\anaconda3\\lib\\site-packages\\sklearn\\feature_extraction\\text.py:1208: UserWarning: Upper case characters found in vocabulary while 'lowercase' is True. These entries will not be matched with any documents\n",
            "  warnings.warn(\n",
            "C:\\Users\\Luis\\anaconda3\\lib\\site-packages\\sklearn\\feature_extraction\\text.py:1208: UserWarning: Upper case characters found in vocabulary while 'lowercase' is True. These entries will not be matched with any documents\n",
            "  warnings.warn(\n",
            "C:\\Users\\Luis\\anaconda3\\lib\\site-packages\\sklearn\\feature_extraction\\text.py:1208: UserWarning: Upper case characters found in vocabulary while 'lowercase' is True. These entries will not be matched with any documents\n",
            "  warnings.warn(\n",
            "C:\\Users\\Luis\\anaconda3\\lib\\site-packages\\sklearn\\feature_extraction\\text.py:1208: UserWarning: Upper case characters found in vocabulary while 'lowercase' is True. These entries will not be matched with any documents\n",
            "  warnings.warn(\n",
            "C:\\Users\\Luis\\anaconda3\\lib\\site-packages\\sklearn\\feature_extraction\\text.py:1208: UserWarning: Upper case characters found in vocabulary while 'lowercase' is True. These entries will not be matched with any documents\n",
            "  warnings.warn(\n",
            "C:\\Users\\Luis\\anaconda3\\lib\\site-packages\\sklearn\\feature_extraction\\text.py:1208: UserWarning: Upper case characters found in vocabulary while 'lowercase' is True. These entries will not be matched with any documents\n",
            "  warnings.warn(\n"
          ]
        },
        {
          "name": "stdout",
          "output_type": "stream",
          "text": [
            "[0.44785276 0.44785276 0.44785276 0.44785276 0.44785276 0.44478528\n",
            " 0.44478528 0.44478528 0.44478528 0.44615385]\n",
            "0.4464558754129307\n"
          ]
        },
        {
          "name": "stderr",
          "output_type": "stream",
          "text": [
            "C:\\Users\\Luis\\anaconda3\\lib\\site-packages\\sklearn\\feature_extraction\\text.py:1208: UserWarning: Upper case characters found in vocabulary while 'lowercase' is True. These entries will not be matched with any documents\n",
            "  warnings.warn(\n"
          ]
        },
        {
          "name": "stdout",
          "output_type": "stream",
          "text": [
            "Accuracy:  0.45\n"
          ]
        },
        {
          "data": {
            "image/png": "[encoded data removed]",
            "text/plain": [
              "<Figure size 432x288 with 2 Axes>"
            ]
          },
          "metadata": {},
          "output_type": "display_data"
        }
      ]
    },
    {
      "cell_type": "code",
      "metadata": {
        "id": "DhJysUArcsDU",
        "outputId": "274ff41f-060c-4d7e-900e-4f8879ce7004"
      },
      "source": [
        "model = MLPClassifier(hidden_layer_sizes=(100,100,3), max_iter=300)\n",
        "evaluate_model(model, x, y)"
      ],
      "execution_count": null,
      "outputs": [
        {
          "name": "stderr",
          "output_type": "stream",
          "text": [
            "C:\\Users\\Luis\\anaconda3\\lib\\site-packages\\sklearn\\feature_extraction\\text.py:1208: UserWarning: Upper case characters found in vocabulary while 'lowercase' is True. These entries will not be matched with any documents\n",
            "  warnings.warn(\n",
            "C:\\Users\\Luis\\anaconda3\\lib\\site-packages\\sklearn\\feature_extraction\\text.py:1208: UserWarning: Upper case characters found in vocabulary while 'lowercase' is True. These entries will not be matched with any documents\n",
            "  warnings.warn(\n",
            "C:\\Users\\Luis\\anaconda3\\lib\\site-packages\\sklearn\\feature_extraction\\text.py:1208: UserWarning: Upper case characters found in vocabulary while 'lowercase' is True. These entries will not be matched with any documents\n",
            "  warnings.warn(\n",
            "C:\\Users\\Luis\\anaconda3\\lib\\site-packages\\sklearn\\neural_network\\_multilayer_perceptron.py:692: ConvergenceWarning: Stochastic Optimizer: Maximum iterations (300) reached and the optimization hasn't converged yet.\n",
            "  warnings.warn(\n",
            "C:\\Users\\Luis\\anaconda3\\lib\\site-packages\\sklearn\\feature_extraction\\text.py:1208: UserWarning: Upper case characters found in vocabulary while 'lowercase' is True. These entries will not be matched with any documents\n",
            "  warnings.warn(\n",
            "C:\\Users\\Luis\\anaconda3\\lib\\site-packages\\sklearn\\feature_extraction\\text.py:1208: UserWarning: Upper case characters found in vocabulary while 'lowercase' is True. These entries will not be matched with any documents\n",
            "  warnings.warn(\n",
            "C:\\Users\\Luis\\anaconda3\\lib\\site-packages\\sklearn\\feature_extraction\\text.py:1208: UserWarning: Upper case characters found in vocabulary while 'lowercase' is True. These entries will not be matched with any documents\n",
            "  warnings.warn(\n",
            "C:\\Users\\Luis\\anaconda3\\lib\\site-packages\\sklearn\\feature_extraction\\text.py:1208: UserWarning: Upper case characters found in vocabulary while 'lowercase' is True. These entries will not be matched with any documents\n",
            "  warnings.warn(\n",
            "C:\\Users\\Luis\\anaconda3\\lib\\site-packages\\sklearn\\feature_extraction\\text.py:1208: UserWarning: Upper case characters found in vocabulary while 'lowercase' is True. These entries will not be matched with any documents\n",
            "  warnings.warn(\n",
            "C:\\Users\\Luis\\anaconda3\\lib\\site-packages\\sklearn\\feature_extraction\\text.py:1208: UserWarning: Upper case characters found in vocabulary while 'lowercase' is True. These entries will not be matched with any documents\n",
            "  warnings.warn(\n"
          ]
        },
        {
          "name": "stdout",
          "output_type": "stream",
          "text": [
            "[0.79447853 0.44785276 0.72392638 0.72392638 0.78527607 0.74233129\n",
            " 0.54601227 0.6595092  0.7208589  0.60307692]\n",
            "0.6747248702218027\n"
          ]
        },
        {
          "name": "stderr",
          "output_type": "stream",
          "text": [
            "C:\\Users\\Luis\\anaconda3\\lib\\site-packages\\sklearn\\feature_extraction\\text.py:1208: UserWarning: Upper case characters found in vocabulary while 'lowercase' is True. These entries will not be matched with any documents\n",
            "  warnings.warn(\n"
          ]
        },
        {
          "name": "stdout",
          "output_type": "stream",
          "text": [
            "Accuracy:  0.76\n"
          ]
        },
        {
          "data": {
            "image/png": "[encoded data removed]",
            "text/plain": [
              "<Figure size 432x288 with 2 Axes>"
            ]
          },
          "metadata": {},
          "output_type": "display_data"
        }
      ]
    },
    {
      "cell_type": "code",
      "metadata": {
        "id": "iKMIuAjlcsDU",
        "scrolled": true,
        "outputId": "fb2de669-89c3-471b-863f-4f738848b315"
      },
      "source": [
        "model = MLPClassifier(hidden_layer_sizes=(10,10,3), max_iter=200)\n",
        "evaluate_model(model, x, y)"
      ],
      "execution_count": null,
      "outputs": [
        {
          "name": "stderr",
          "output_type": "stream",
          "text": [
            "C:\\Users\\Luis\\anaconda3\\lib\\site-packages\\sklearn\\neural_network\\_multilayer_perceptron.py:692: ConvergenceWarning: Stochastic Optimizer: Maximum iterations (200) reached and the optimization hasn't converged yet.\n",
            "  warnings.warn(\n",
            "C:\\Users\\Luis\\anaconda3\\lib\\site-packages\\sklearn\\feature_extraction\\text.py:1208: UserWarning: Upper case characters found in vocabulary while 'lowercase' is True. These entries will not be matched with any documents\n",
            "  warnings.warn(\n",
            "C:\\Users\\Luis\\anaconda3\\lib\\site-packages\\sklearn\\neural_network\\_multilayer_perceptron.py:692: ConvergenceWarning: Stochastic Optimizer: Maximum iterations (200) reached and the optimization hasn't converged yet.\n",
            "  warnings.warn(\n",
            "C:\\Users\\Luis\\anaconda3\\lib\\site-packages\\sklearn\\feature_extraction\\text.py:1208: UserWarning: Upper case characters found in vocabulary while 'lowercase' is True. These entries will not be matched with any documents\n",
            "  warnings.warn(\n",
            "C:\\Users\\Luis\\anaconda3\\lib\\site-packages\\sklearn\\neural_network\\_multilayer_perceptron.py:692: ConvergenceWarning: Stochastic Optimizer: Maximum iterations (200) reached and the optimization hasn't converged yet.\n",
            "  warnings.warn(\n",
            "C:\\Users\\Luis\\anaconda3\\lib\\site-packages\\sklearn\\feature_extraction\\text.py:1208: UserWarning: Upper case characters found in vocabulary while 'lowercase' is True. These entries will not be matched with any documents\n",
            "  warnings.warn(\n",
            "C:\\Users\\Luis\\anaconda3\\lib\\site-packages\\sklearn\\neural_network\\_multilayer_perceptron.py:692: ConvergenceWarning: Stochastic Optimizer: Maximum iterations (200) reached and the optimization hasn't converged yet.\n",
            "  warnings.warn(\n",
            "C:\\Users\\Luis\\anaconda3\\lib\\site-packages\\sklearn\\feature_extraction\\text.py:1208: UserWarning: Upper case characters found in vocabulary while 'lowercase' is True. These entries will not be matched with any documents\n",
            "  warnings.warn(\n",
            "C:\\Users\\Luis\\anaconda3\\lib\\site-packages\\sklearn\\neural_network\\_multilayer_perceptron.py:692: ConvergenceWarning: Stochastic Optimizer: Maximum iterations (200) reached and the optimization hasn't converged yet.\n",
            "  warnings.warn(\n",
            "C:\\Users\\Luis\\anaconda3\\lib\\site-packages\\sklearn\\neural_network\\_multilayer_perceptron.py:692: ConvergenceWarning: Stochastic Optimizer: Maximum iterations (200) reached and the optimization hasn't converged yet.\n",
            "  warnings.warn(\n",
            "C:\\Users\\Luis\\anaconda3\\lib\\site-packages\\sklearn\\feature_extraction\\text.py:1208: UserWarning: Upper case characters found in vocabulary while 'lowercase' is True. These entries will not be matched with any documents\n",
            "  warnings.warn(\n",
            "C:\\Users\\Luis\\anaconda3\\lib\\site-packages\\sklearn\\neural_network\\_multilayer_perceptron.py:692: ConvergenceWarning: Stochastic Optimizer: Maximum iterations (200) reached and the optimization hasn't converged yet.\n",
            "  warnings.warn(\n",
            "C:\\Users\\Luis\\anaconda3\\lib\\site-packages\\sklearn\\feature_extraction\\text.py:1208: UserWarning: Upper case characters found in vocabulary while 'lowercase' is True. These entries will not be matched with any documents\n",
            "  warnings.warn(\n",
            "C:\\Users\\Luis\\anaconda3\\lib\\site-packages\\sklearn\\neural_network\\_multilayer_perceptron.py:692: ConvergenceWarning: Stochastic Optimizer: Maximum iterations (200) reached and the optimization hasn't converged yet.\n",
            "  warnings.warn(\n",
            "C:\\Users\\Luis\\anaconda3\\lib\\site-packages\\sklearn\\feature_extraction\\text.py:1208: UserWarning: Upper case characters found in vocabulary while 'lowercase' is True. These entries will not be matched with any documents\n",
            "  warnings.warn(\n",
            "C:\\Users\\Luis\\anaconda3\\lib\\site-packages\\sklearn\\neural_network\\_multilayer_perceptron.py:692: ConvergenceWarning: Stochastic Optimizer: Maximum iterations (200) reached and the optimization hasn't converged yet.\n",
            "  warnings.warn(\n",
            "C:\\Users\\Luis\\anaconda3\\lib\\site-packages\\sklearn\\feature_extraction\\text.py:1208: UserWarning: Upper case characters found in vocabulary while 'lowercase' is True. These entries will not be matched with any documents\n",
            "  warnings.warn(\n",
            "C:\\Users\\Luis\\anaconda3\\lib\\site-packages\\sklearn\\neural_network\\_multilayer_perceptron.py:692: ConvergenceWarning: Stochastic Optimizer: Maximum iterations (200) reached and the optimization hasn't converged yet.\n",
            "  warnings.warn(\n",
            "C:\\Users\\Luis\\anaconda3\\lib\\site-packages\\sklearn\\feature_extraction\\text.py:1208: UserWarning: Upper case characters found in vocabulary while 'lowercase' is True. These entries will not be matched with any documents\n",
            "  warnings.warn(\n"
          ]
        },
        {
          "name": "stdout",
          "output_type": "stream",
          "text": [
            "[0.6993865  0.72699387 0.70858896 0.7607362  0.50306748 0.75766871\n",
            " 0.7208589  0.65644172 0.67791411 0.59076923]\n",
            "0.6802425672487022\n"
          ]
        },
        {
          "name": "stderr",
          "output_type": "stream",
          "text": [
            "C:\\Users\\Luis\\anaconda3\\lib\\site-packages\\sklearn\\neural_network\\_multilayer_perceptron.py:692: ConvergenceWarning: Stochastic Optimizer: Maximum iterations (200) reached and the optimization hasn't converged yet.\n",
            "  warnings.warn(\n",
            "C:\\Users\\Luis\\anaconda3\\lib\\site-packages\\sklearn\\feature_extraction\\text.py:1208: UserWarning: Upper case characters found in vocabulary while 'lowercase' is True. These entries will not be matched with any documents\n",
            "  warnings.warn(\n"
          ]
        },
        {
          "name": "stdout",
          "output_type": "stream",
          "text": [
            "Accuracy:  0.68\n"
          ]
        },
        {
          "data": {
            "image/png": "[encoded data removed]",
            "text/plain": [
              "<Figure size 432x288 with 2 Axes>"
            ]
          },
          "metadata": {},
          "output_type": "display_data"
        }
      ]
    },
    {
      "cell_type": "code",
      "metadata": {
        "id": "-4DfdV09csDV",
        "outputId": "9f1b5db9-2c78-405b-fb09-772169dac82d"
      },
      "source": [
        "model = MLPClassifier(hidden_layer_sizes=(20,20,3), max_iter=100)\n",
        "evaluate_model(model, x, y)"
      ],
      "execution_count": null,
      "outputs": [
        {
          "name": "stderr",
          "output_type": "stream",
          "text": [
            "C:\\Users\\Luis\\anaconda3\\lib\\site-packages\\sklearn\\neural_network\\_multilayer_perceptron.py:692: ConvergenceWarning: Stochastic Optimizer: Maximum iterations (100) reached and the optimization hasn't converged yet.\n",
            "  warnings.warn(\n",
            "C:\\Users\\Luis\\anaconda3\\lib\\site-packages\\sklearn\\feature_extraction\\text.py:1208: UserWarning: Upper case characters found in vocabulary while 'lowercase' is True. These entries will not be matched with any documents\n",
            "  warnings.warn(\n",
            "C:\\Users\\Luis\\anaconda3\\lib\\site-packages\\sklearn\\neural_network\\_multilayer_perceptron.py:692: ConvergenceWarning: Stochastic Optimizer: Maximum iterations (100) reached and the optimization hasn't converged yet.\n",
            "  warnings.warn(\n",
            "C:\\Users\\Luis\\anaconda3\\lib\\site-packages\\sklearn\\feature_extraction\\text.py:1208: UserWarning: Upper case characters found in vocabulary while 'lowercase' is True. These entries will not be matched with any documents\n",
            "  warnings.warn(\n",
            "C:\\Users\\Luis\\anaconda3\\lib\\site-packages\\sklearn\\neural_network\\_multilayer_perceptron.py:692: ConvergenceWarning: Stochastic Optimizer: Maximum iterations (100) reached and the optimization hasn't converged yet.\n",
            "  warnings.warn(\n",
            "C:\\Users\\Luis\\anaconda3\\lib\\site-packages\\sklearn\\feature_extraction\\text.py:1208: UserWarning: Upper case characters found in vocabulary while 'lowercase' is True. These entries will not be matched with any documents\n",
            "  warnings.warn(\n",
            "C:\\Users\\Luis\\anaconda3\\lib\\site-packages\\sklearn\\neural_network\\_multilayer_perceptron.py:692: ConvergenceWarning: Stochastic Optimizer: Maximum iterations (100) reached and the optimization hasn't converged yet.\n",
            "  warnings.warn(\n",
            "C:\\Users\\Luis\\anaconda3\\lib\\site-packages\\sklearn\\feature_extraction\\text.py:1208: UserWarning: Upper case characters found in vocabulary while 'lowercase' is True. These entries will not be matched with any documents\n",
            "  warnings.warn(\n",
            "C:\\Users\\Luis\\anaconda3\\lib\\site-packages\\sklearn\\neural_network\\_multilayer_perceptron.py:692: ConvergenceWarning: Stochastic Optimizer: Maximum iterations (100) reached and the optimization hasn't converged yet.\n",
            "  warnings.warn(\n",
            "C:\\Users\\Luis\\anaconda3\\lib\\site-packages\\sklearn\\feature_extraction\\text.py:1208: UserWarning: Upper case characters found in vocabulary while 'lowercase' is True. These entries will not be matched with any documents\n",
            "  warnings.warn(\n",
            "C:\\Users\\Luis\\anaconda3\\lib\\site-packages\\sklearn\\neural_network\\_multilayer_perceptron.py:692: ConvergenceWarning: Stochastic Optimizer: Maximum iterations (100) reached and the optimization hasn't converged yet.\n",
            "  warnings.warn(\n",
            "C:\\Users\\Luis\\anaconda3\\lib\\site-packages\\sklearn\\feature_extraction\\text.py:1208: UserWarning: Upper case characters found in vocabulary while 'lowercase' is True. These entries will not be matched with any documents\n",
            "  warnings.warn(\n",
            "C:\\Users\\Luis\\anaconda3\\lib\\site-packages\\sklearn\\neural_network\\_multilayer_perceptron.py:692: ConvergenceWarning: Stochastic Optimizer: Maximum iterations (100) reached and the optimization hasn't converged yet.\n",
            "  warnings.warn(\n",
            "C:\\Users\\Luis\\anaconda3\\lib\\site-packages\\sklearn\\feature_extraction\\text.py:1208: UserWarning: Upper case characters found in vocabulary while 'lowercase' is True. These entries will not be matched with any documents\n",
            "  warnings.warn(\n",
            "C:\\Users\\Luis\\anaconda3\\lib\\site-packages\\sklearn\\neural_network\\_multilayer_perceptron.py:692: ConvergenceWarning: Stochastic Optimizer: Maximum iterations (100) reached and the optimization hasn't converged yet.\n",
            "  warnings.warn(\n",
            "C:\\Users\\Luis\\anaconda3\\lib\\site-packages\\sklearn\\feature_extraction\\text.py:1208: UserWarning: Upper case characters found in vocabulary while 'lowercase' is True. These entries will not be matched with any documents\n",
            "  warnings.warn(\n",
            "C:\\Users\\Luis\\anaconda3\\lib\\site-packages\\sklearn\\neural_network\\_multilayer_perceptron.py:692: ConvergenceWarning: Stochastic Optimizer: Maximum iterations (100) reached and the optimization hasn't converged yet.\n",
            "  warnings.warn(\n",
            "C:\\Users\\Luis\\anaconda3\\lib\\site-packages\\sklearn\\feature_extraction\\text.py:1208: UserWarning: Upper case characters found in vocabulary while 'lowercase' is True. These entries will not be matched with any documents\n",
            "  warnings.warn(\n"
          ]
        },
        {
          "name": "stdout",
          "output_type": "stream",
          "text": [
            "[0.76687117 0.73619632 0.71165644 0.54601227 0.79447853 0.44478528\n",
            " 0.69631902 0.67177914 0.6809816  0.54461538]\n",
            "0.6593695139216611\n"
          ]
        },
        {
          "name": "stderr",
          "output_type": "stream",
          "text": [
            "C:\\Users\\Luis\\anaconda3\\lib\\site-packages\\sklearn\\neural_network\\_multilayer_perceptron.py:692: ConvergenceWarning: Stochastic Optimizer: Maximum iterations (100) reached and the optimization hasn't converged yet.\n",
            "  warnings.warn(\n",
            "C:\\Users\\Luis\\anaconda3\\lib\\site-packages\\sklearn\\feature_extraction\\text.py:1208: UserWarning: Upper case characters found in vocabulary while 'lowercase' is True. These entries will not be matched with any documents\n",
            "  warnings.warn(\n"
          ]
        },
        {
          "name": "stdout",
          "output_type": "stream",
          "text": [
            "Accuracy:  0.74\n"
          ]
        },
        {
          "data": {
            "image/png": "[encoded data removed]",
            "text/plain": [
              "<Figure size 432x288 with 2 Axes>"
            ]
          },
          "metadata": {},
          "output_type": "display_data"
        }
      ]
    },
    {
      "cell_type": "code",
      "metadata": {
        "id": "fzp6SPRrcsDV",
        "outputId": "813acbcb-17e9-4db6-c60b-8dcfd6f957b7"
      },
      "source": [
        "model = MLPClassifier(hidden_layer_sizes=(30,30,3), max_iter=100)\n",
        "evaluate_model(model, x, y)"
      ],
      "execution_count": null,
      "outputs": [
        {
          "name": "stderr",
          "output_type": "stream",
          "text": [
            "C:\\Users\\Luis\\anaconda3\\lib\\site-packages\\sklearn\\neural_network\\_multilayer_perceptron.py:692: ConvergenceWarning: Stochastic Optimizer: Maximum iterations (100) reached and the optimization hasn't converged yet.\n",
            "  warnings.warn(\n",
            "C:\\Users\\Luis\\anaconda3\\lib\\site-packages\\sklearn\\feature_extraction\\text.py:1208: UserWarning: Upper case characters found in vocabulary while 'lowercase' is True. These entries will not be matched with any documents\n",
            "  warnings.warn(\n",
            "C:\\Users\\Luis\\anaconda3\\lib\\site-packages\\sklearn\\neural_network\\_multilayer_perceptron.py:692: ConvergenceWarning: Stochastic Optimizer: Maximum iterations (100) reached and the optimization hasn't converged yet.\n",
            "  warnings.warn(\n",
            "C:\\Users\\Luis\\anaconda3\\lib\\site-packages\\sklearn\\feature_extraction\\text.py:1208: UserWarning: Upper case characters found in vocabulary while 'lowercase' is True. These entries will not be matched with any documents\n",
            "  warnings.warn(\n",
            "C:\\Users\\Luis\\anaconda3\\lib\\site-packages\\sklearn\\neural_network\\_multilayer_perceptron.py:692: ConvergenceWarning: Stochastic Optimizer: Maximum iterations (100) reached and the optimization hasn't converged yet.\n",
            "  warnings.warn(\n",
            "C:\\Users\\Luis\\anaconda3\\lib\\site-packages\\sklearn\\feature_extraction\\text.py:1208: UserWarning: Upper case characters found in vocabulary while 'lowercase' is True. These entries will not be matched with any documents\n",
            "  warnings.warn(\n",
            "C:\\Users\\Luis\\anaconda3\\lib\\site-packages\\sklearn\\feature_extraction\\text.py:1208: UserWarning: Upper case characters found in vocabulary while 'lowercase' is True. These entries will not be matched with any documents\n",
            "  warnings.warn(\n",
            "C:\\Users\\Luis\\anaconda3\\lib\\site-packages\\sklearn\\neural_network\\_multilayer_perceptron.py:692: ConvergenceWarning: Stochastic Optimizer: Maximum iterations (100) reached and the optimization hasn't converged yet.\n",
            "  warnings.warn(\n",
            "C:\\Users\\Luis\\anaconda3\\lib\\site-packages\\sklearn\\neural_network\\_multilayer_perceptron.py:692: ConvergenceWarning: Stochastic Optimizer: Maximum iterations (100) reached and the optimization hasn't converged yet.\n",
            "  warnings.warn(\n",
            "C:\\Users\\Luis\\anaconda3\\lib\\site-packages\\sklearn\\feature_extraction\\text.py:1208: UserWarning: Upper case characters found in vocabulary while 'lowercase' is True. These entries will not be matched with any documents\n",
            "  warnings.warn(\n",
            "C:\\Users\\Luis\\anaconda3\\lib\\site-packages\\sklearn\\neural_network\\_multilayer_perceptron.py:692: ConvergenceWarning: Stochastic Optimizer: Maximum iterations (100) reached and the optimization hasn't converged yet.\n",
            "  warnings.warn(\n",
            "C:\\Users\\Luis\\anaconda3\\lib\\site-packages\\sklearn\\feature_extraction\\text.py:1208: UserWarning: Upper case characters found in vocabulary while 'lowercase' is True. These entries will not be matched with any documents\n",
            "  warnings.warn(\n",
            "C:\\Users\\Luis\\anaconda3\\lib\\site-packages\\sklearn\\neural_network\\_multilayer_perceptron.py:692: ConvergenceWarning: Stochastic Optimizer: Maximum iterations (100) reached and the optimization hasn't converged yet.\n",
            "  warnings.warn(\n",
            "C:\\Users\\Luis\\anaconda3\\lib\\site-packages\\sklearn\\feature_extraction\\text.py:1208: UserWarning: Upper case characters found in vocabulary while 'lowercase' is True. These entries will not be matched with any documents\n",
            "  warnings.warn(\n",
            "C:\\Users\\Luis\\anaconda3\\lib\\site-packages\\sklearn\\neural_network\\_multilayer_perceptron.py:692: ConvergenceWarning: Stochastic Optimizer: Maximum iterations (100) reached and the optimization hasn't converged yet.\n",
            "  warnings.warn(\n",
            "C:\\Users\\Luis\\anaconda3\\lib\\site-packages\\sklearn\\feature_extraction\\text.py:1208: UserWarning: Upper case characters found in vocabulary while 'lowercase' is True. These entries will not be matched with any documents\n",
            "  warnings.warn(\n",
            "C:\\Users\\Luis\\anaconda3\\lib\\site-packages\\sklearn\\feature_extraction\\text.py:1208: UserWarning: Upper case characters found in vocabulary while 'lowercase' is True. These entries will not be matched with any documents\n",
            "  warnings.warn(\n"
          ]
        },
        {
          "name": "stdout",
          "output_type": "stream",
          "text": [
            "[0.68404908 0.74846626 0.6993865  0.44785276 0.74233129 0.76687117\n",
            " 0.73619632 0.66257669 0.67177914 0.44615385]\n",
            "0.6605663048607834\n"
          ]
        },
        {
          "name": "stderr",
          "output_type": "stream",
          "text": [
            "C:\\Users\\Luis\\anaconda3\\lib\\site-packages\\sklearn\\neural_network\\_multilayer_perceptron.py:692: ConvergenceWarning: Stochastic Optimizer: Maximum iterations (100) reached and the optimization hasn't converged yet.\n",
            "  warnings.warn(\n",
            "C:\\Users\\Luis\\anaconda3\\lib\\site-packages\\sklearn\\feature_extraction\\text.py:1208: UserWarning: Upper case characters found in vocabulary while 'lowercase' is True. These entries will not be matched with any documents\n",
            "  warnings.warn(\n"
          ]
        },
        {
          "name": "stdout",
          "output_type": "stream",
          "text": [
            "Accuracy:  0.73\n"
          ]
        },
        {
          "data": {
            "image/png": "[encoded data removed]",
            "text/plain": [
              "<Figure size 432x288 with 2 Axes>"
            ]
          },
          "metadata": {},
          "output_type": "display_data"
        }
      ]
    },
    {
      "cell_type": "code",
      "metadata": {
        "id": "yfqax_J4csDV",
        "outputId": "5b5fd285-91e7-4581-d7ab-702513113cc7"
      },
      "source": [
        "model = MLPClassifier(hidden_layer_sizes=(50,50,3), max_iter=100)\n",
        "evaluate_model(model, x, y)"
      ],
      "execution_count": null,
      "outputs": [
        {
          "name": "stderr",
          "output_type": "stream",
          "text": [
            "C:\\Users\\Luis\\anaconda3\\lib\\site-packages\\sklearn\\feature_extraction\\text.py:1208: UserWarning: Upper case characters found in vocabulary while 'lowercase' is True. These entries will not be matched with any documents\n",
            "  warnings.warn(\n",
            "C:\\Users\\Luis\\anaconda3\\lib\\site-packages\\sklearn\\neural_network\\_multilayer_perceptron.py:692: ConvergenceWarning: Stochastic Optimizer: Maximum iterations (100) reached and the optimization hasn't converged yet.\n",
            "  warnings.warn(\n",
            "C:\\Users\\Luis\\anaconda3\\lib\\site-packages\\sklearn\\feature_extraction\\text.py:1208: UserWarning: Upper case characters found in vocabulary while 'lowercase' is True. These entries will not be matched with any documents\n",
            "  warnings.warn(\n",
            "C:\\Users\\Luis\\anaconda3\\lib\\site-packages\\sklearn\\neural_network\\_multilayer_perceptron.py:692: ConvergenceWarning: Stochastic Optimizer: Maximum iterations (100) reached and the optimization hasn't converged yet.\n",
            "  warnings.warn(\n",
            "C:\\Users\\Luis\\anaconda3\\lib\\site-packages\\sklearn\\feature_extraction\\text.py:1208: UserWarning: Upper case characters found in vocabulary while 'lowercase' is True. These entries will not be matched with any documents\n",
            "  warnings.warn(\n",
            "C:\\Users\\Luis\\anaconda3\\lib\\site-packages\\sklearn\\neural_network\\_multilayer_perceptron.py:692: ConvergenceWarning: Stochastic Optimizer: Maximum iterations (100) reached and the optimization hasn't converged yet.\n",
            "  warnings.warn(\n",
            "C:\\Users\\Luis\\anaconda3\\lib\\site-packages\\sklearn\\feature_extraction\\text.py:1208: UserWarning: Upper case characters found in vocabulary while 'lowercase' is True. These entries will not be matched with any documents\n",
            "  warnings.warn(\n",
            "C:\\Users\\Luis\\anaconda3\\lib\\site-packages\\sklearn\\neural_network\\_multilayer_perceptron.py:692: ConvergenceWarning: Stochastic Optimizer: Maximum iterations (100) reached and the optimization hasn't converged yet.\n",
            "  warnings.warn(\n",
            "C:\\Users\\Luis\\anaconda3\\lib\\site-packages\\sklearn\\neural_network\\_multilayer_perceptron.py:692: ConvergenceWarning: Stochastic Optimizer: Maximum iterations (100) reached and the optimization hasn't converged yet.\n",
            "  warnings.warn(\n",
            "C:\\Users\\Luis\\anaconda3\\lib\\site-packages\\sklearn\\feature_extraction\\text.py:1208: UserWarning: Upper case characters found in vocabulary while 'lowercase' is True. These entries will not be matched with any documents\n",
            "  warnings.warn(\n",
            "C:\\Users\\Luis\\anaconda3\\lib\\site-packages\\sklearn\\neural_network\\_multilayer_perceptron.py:692: ConvergenceWarning: Stochastic Optimizer: Maximum iterations (100) reached and the optimization hasn't converged yet.\n",
            "  warnings.warn(\n",
            "C:\\Users\\Luis\\anaconda3\\lib\\site-packages\\sklearn\\feature_extraction\\text.py:1208: UserWarning: Upper case characters found in vocabulary while 'lowercase' is True. These entries will not be matched with any documents\n",
            "  warnings.warn(\n",
            "C:\\Users\\Luis\\anaconda3\\lib\\site-packages\\sklearn\\neural_network\\_multilayer_perceptron.py:692: ConvergenceWarning: Stochastic Optimizer: Maximum iterations (100) reached and the optimization hasn't converged yet.\n",
            "  warnings.warn(\n",
            "C:\\Users\\Luis\\anaconda3\\lib\\site-packages\\sklearn\\feature_extraction\\text.py:1208: UserWarning: Upper case characters found in vocabulary while 'lowercase' is True. These entries will not be matched with any documents\n",
            "  warnings.warn(\n",
            "C:\\Users\\Luis\\anaconda3\\lib\\site-packages\\sklearn\\neural_network\\_multilayer_perceptron.py:692: ConvergenceWarning: Stochastic Optimizer: Maximum iterations (100) reached and the optimization hasn't converged yet.\n",
            "  warnings.warn(\n",
            "C:\\Users\\Luis\\anaconda3\\lib\\site-packages\\sklearn\\feature_extraction\\text.py:1208: UserWarning: Upper case characters found in vocabulary while 'lowercase' is True. These entries will not be matched with any documents\n",
            "  warnings.warn(\n",
            "C:\\Users\\Luis\\anaconda3\\lib\\site-packages\\sklearn\\neural_network\\_multilayer_perceptron.py:692: ConvergenceWarning: Stochastic Optimizer: Maximum iterations (100) reached and the optimization hasn't converged yet.\n",
            "  warnings.warn(\n",
            "C:\\Users\\Luis\\anaconda3\\lib\\site-packages\\sklearn\\feature_extraction\\text.py:1208: UserWarning: Upper case characters found in vocabulary while 'lowercase' is True. These entries will not be matched with any documents\n",
            "  warnings.warn(\n"
          ]
        },
        {
          "name": "stdout",
          "output_type": "stream",
          "text": [
            "[0.44785276 0.71165644 0.6809816  0.78834356 0.77300613 0.62883436\n",
            " 0.69631902 0.61349693 0.73619632 0.63384615]\n",
            "0.6710533270410571\n"
          ]
        },
        {
          "name": "stderr",
          "output_type": "stream",
          "text": [
            "C:\\Users\\Luis\\anaconda3\\lib\\site-packages\\sklearn\\neural_network\\_multilayer_perceptron.py:692: ConvergenceWarning: Stochastic Optimizer: Maximum iterations (100) reached and the optimization hasn't converged yet.\n",
            "  warnings.warn(\n",
            "C:\\Users\\Luis\\anaconda3\\lib\\site-packages\\sklearn\\feature_extraction\\text.py:1208: UserWarning: Upper case characters found in vocabulary while 'lowercase' is True. These entries will not be matched with any documents\n",
            "  warnings.warn(\n"
          ]
        },
        {
          "name": "stdout",
          "output_type": "stream",
          "text": [
            "Accuracy:  0.78\n"
          ]
        },
        {
          "data": {
            "image/png": "[encoded data removed]",
            "text/plain": [
              "<Figure size 432x288 with 2 Axes>"
            ]
          },
          "metadata": {},
          "output_type": "display_data"
        }
      ]
    },
    {
      "cell_type": "markdown",
      "metadata": {
        "id": "9Pm6OHR1csDV"
      },
      "source": [
        "# Pruebas adicionales (No utilizado en Tarea Academica 3)"
      ]
    },
    {
      "cell_type": "code",
      "metadata": {
        "id": "n0Ct_XcKcsDV"
      },
      "source": [
        "model = SVC(C=501, gamma=0.1)\n",
        "under = RandomUnderSampler(random_state=42, sampling_strategy=.5)\n",
        "over = SMOTE(random_state=42, sampling_strategy='auto', k_neighbors=5)\n",
        "# steps = [('u', under), ('o', over), ('model', model)]\n",
        "steps = [('u', under), ('o', over), ('model', model)]\n",
        "pipeline = Pipeline(steps=steps)\n",
        "\n",
        "x = df_fraud.drop('fraud', axis=1)\n",
        "y = df_fraud['fraud']\n",
        "pipeline.fit(x, y)\n",
        "\n",
        "y_pred = pipeline.predict(x)\n",
        "print_metrics(y, y_pred)"
      ],
      "execution_count": null,
      "outputs": []
    },
    {
      "cell_type": "code",
      "metadata": {
        "id": "s0UiwCVFcsDW"
      },
      "source": [
        "from sklearn.model_selection import cross_val_score\n",
        "from sklearn.metrics import roc_auc_score\n",
        "from numpy import mean\n",
        "from imblearn.pipeline import Pipeline\n",
        "\n",
        "model = SVC(C=501, gamma=0.1)\n",
        "over = SMOTE(random_state=42, sampling_strategy='auto', k_neighbors=5)\n",
        "under = RandomUnderSampler(random_state=42, sampling_strategy=.5)\n",
        "steps = [('u', under), ('o', over), ('model', model)]\n",
        "pipeline = Pipeline(steps=steps)\n",
        "\n",
        "scores = cross_val_score(pipeline, x, y, scoring='precision', cv=10, n_jobs=-1)\n",
        "score = mean(scores)\n",
        "print('ROC AUC score for the combined sampling method: %.3f' % score)"
      ],
      "execution_count": null,
      "outputs": []
    },
    {
      "cell_type": "code",
      "metadata": {
        "id": "yXHL0xxEcsDW",
        "outputId": "22372440-2081-48ae-8f43-b8e172386826"
      },
      "source": [
        "# Import necessary modules\n",
        "from sklearn.model_selection import train_test_split\n",
        "from sklearn.linear_model import LogisticRegression\n",
        "from sklearn.model_selection import GridSearchCV\n",
        "\n",
        "# Create the hyperparameter grid\n",
        "#c_space = np.logspace(-5, 8, 15)\n",
        "c_space = np.logspace(0.1, 4, num=10) #np.logspace(2, 4, num=20)\n",
        "gamma_space = np.arange(0.1, 1.1, 0.1)\n",
        "param_grid = {'C': c_space, 'gamma': gamma_space}\n",
        "\n",
        "# Instantiate the logistic regression classifier: logreg\n",
        "logreg = SVC(random_state=0)\n",
        "#.fit(X_train, y_train)\n",
        "\n",
        "# Instantiate the GridSearchCV object: logreg_cv\n",
        "logreg_cv = GridSearchCV(logreg, param_grid, cv=5, scoring='precision')\n",
        "\n",
        "# Fit it to the training data\n",
        "logreg_cv.fit(X_train, y_train)\n",
        "\n",
        "# Print the optimal parameters and best score\n",
        "print(\"Tuned Logistic Regression Parameter: {}\".format(logreg_cv.best_params_))\n",
        "print(\"Tuned Logistic Regression Accuracy: {}\".format(logreg_cv.best_score_))\n"
      ],
      "execution_count": null,
      "outputs": [
        {
          "name": "stdout",
          "output_type": "stream",
          "text": [
            "Tuned Logistic Regression Parameter: {'C': 501.18723362727246, 'gamma': 0.1}\n",
            "Tuned Logistic Regression Accuracy: 0.9012973927381367\n"
          ]
        }
      ]
    }
  ]
}